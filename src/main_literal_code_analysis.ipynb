{
 "cells": [
  {
   "cell_type": "code",
   "execution_count": 1,
   "id": "f59eb6a2-896b-4bf3-ad3f-ae0a08f10b81",
   "metadata": {},
   "outputs": [
    {
     "name": "stderr",
     "output_type": "stream",
     "text": [
      "-- \u001b[1mAttaching packages\u001b[22m ------------------------------------------------------------------------------- tidyverse 1.3.1 --\n",
      "\n",
      "\u001b[32mv\u001b[39m \u001b[34mggplot2\u001b[39m 3.3.5     \u001b[32mv\u001b[39m \u001b[34mpurrr  \u001b[39m 0.3.4\n",
      "\u001b[32mv\u001b[39m \u001b[34mtibble \u001b[39m 3.1.5     \u001b[32mv\u001b[39m \u001b[34mdplyr  \u001b[39m 1.0.7\n",
      "\u001b[32mv\u001b[39m \u001b[34mtidyr  \u001b[39m 1.1.4     \u001b[32mv\u001b[39m \u001b[34mstringr\u001b[39m 1.4.0\n",
      "\u001b[32mv\u001b[39m \u001b[34mreadr  \u001b[39m 2.0.2     \u001b[32mv\u001b[39m \u001b[34mforcats\u001b[39m 0.5.1\n",
      "\n",
      "-- \u001b[1mConflicts\u001b[22m ---------------------------------------------------------------------------------- tidyverse_conflicts() --\n",
      "\u001b[31mx\u001b[39m \u001b[34mdplyr\u001b[39m::\u001b[32mfilter()\u001b[39m masks \u001b[34mstats\u001b[39m::filter()\n",
      "\u001b[31mx\u001b[39m \u001b[34mdplyr\u001b[39m::\u001b[32mlag()\u001b[39m    masks \u001b[34mstats\u001b[39m::lag()\n",
      "\n",
      "Classes and Methods for R developed in the\n",
      "Political Science Computational Laboratory\n",
      "Department of Political Science\n",
      "Stanford University\n",
      "Simon Jackman\n",
      "hurdle and zeroinfl functions by Achim Zeileis\n",
      "\n"
     ]
    }
   ],
   "source": [
    "library(tidyverse)\n",
    "library(ggplot2)\n",
    "library(broom)\n",
    "library(knitr)\n",
    "library(pscl)\n",
    "options(repr.matrix.max.rows = 20)"
   ]
  },
  {
   "cell_type": "markdown",
   "id": "972f7ca6-2a30-42b1-ad28-8279c24f60c6",
   "metadata": {},
   "source": [
    "### 2. Pre-processing - Simon"
   ]
  },
  {
   "cell_type": "code",
   "execution_count": 2,
   "id": "9c929edc-2220-443b-9666-571f1eec0713",
   "metadata": {},
   "outputs": [
    {
     "data": {
      "text/html": [
       "<table class=\"dataframe\">\n",
       "<caption>A tibble: 6 × 6</caption>\n",
       "<thead>\n",
       "\t<tr><th scope=col>county</th><th scope=col>year</th><th scope=col>site_id</th><th scope=col>site_type</th><th scope=col>no_of_bees</th><th scope=col>sample_date</th></tr>\n",
       "\t<tr><th scope=col>&lt;chr&gt;</th><th scope=col>&lt;int&gt;</th><th scope=col>&lt;int&gt;</th><th scope=col>&lt;chr&gt;</th><th scope=col>&lt;int&gt;</th><th scope=col>&lt;chr&gt;</th></tr>\n",
       "</thead>\n",
       "<tbody>\n",
       "\t<tr><td>Middlesex Centre</td><td>2015</td><td>1</td><td>Agricultural</td><td>7</td><td>07/02/2015</td></tr>\n",
       "\t<tr><td>Middlesex Centre</td><td>2015</td><td>1</td><td>Agricultural</td><td>1</td><td>07/02/2015</td></tr>\n",
       "\t<tr><td>Middlesex Centre</td><td>2015</td><td>1</td><td>Agricultural</td><td>3</td><td>07/02/2015</td></tr>\n",
       "\t<tr><td>Middlesex Centre</td><td>2015</td><td>1</td><td>Agricultural</td><td>0</td><td>07/02/2015</td></tr>\n",
       "\t<tr><td>Middlesex Centre</td><td>2015</td><td>1</td><td>Agricultural</td><td>1</td><td>07/02/2015</td></tr>\n",
       "\t<tr><td>Middlesex Centre</td><td>2015</td><td>1</td><td>Agricultural</td><td>0</td><td>07/02/2015</td></tr>\n",
       "</tbody>\n",
       "</table>\n"
      ],
      "text/latex": [
       "A tibble: 6 × 6\n",
       "\\begin{tabular}{llllll}\n",
       " county & year & site\\_id & site\\_type & no\\_of\\_bees & sample\\_date\\\\\n",
       " <chr> & <int> & <int> & <chr> & <int> & <chr>\\\\\n",
       "\\hline\n",
       "\t Middlesex Centre & 2015 & 1 & Agricultural & 7 & 07/02/2015\\\\\n",
       "\t Middlesex Centre & 2015 & 1 & Agricultural & 1 & 07/02/2015\\\\\n",
       "\t Middlesex Centre & 2015 & 1 & Agricultural & 3 & 07/02/2015\\\\\n",
       "\t Middlesex Centre & 2015 & 1 & Agricultural & 0 & 07/02/2015\\\\\n",
       "\t Middlesex Centre & 2015 & 1 & Agricultural & 1 & 07/02/2015\\\\\n",
       "\t Middlesex Centre & 2015 & 1 & Agricultural & 0 & 07/02/2015\\\\\n",
       "\\end{tabular}\n"
      ],
      "text/markdown": [
       "\n",
       "A tibble: 6 × 6\n",
       "\n",
       "| county &lt;chr&gt; | year &lt;int&gt; | site_id &lt;int&gt; | site_type &lt;chr&gt; | no_of_bees &lt;int&gt; | sample_date &lt;chr&gt; |\n",
       "|---|---|---|---|---|---|\n",
       "| Middlesex Centre | 2015 | 1 | Agricultural | 7 | 07/02/2015 |\n",
       "| Middlesex Centre | 2015 | 1 | Agricultural | 1 | 07/02/2015 |\n",
       "| Middlesex Centre | 2015 | 1 | Agricultural | 3 | 07/02/2015 |\n",
       "| Middlesex Centre | 2015 | 1 | Agricultural | 0 | 07/02/2015 |\n",
       "| Middlesex Centre | 2015 | 1 | Agricultural | 1 | 07/02/2015 |\n",
       "| Middlesex Centre | 2015 | 1 | Agricultural | 0 | 07/02/2015 |\n",
       "\n"
      ],
      "text/plain": [
       "  county           year site_id site_type    no_of_bees sample_date\n",
       "1 Middlesex Centre 2015 1       Agricultural 7          07/02/2015 \n",
       "2 Middlesex Centre 2015 1       Agricultural 1          07/02/2015 \n",
       "3 Middlesex Centre 2015 1       Agricultural 3          07/02/2015 \n",
       "4 Middlesex Centre 2015 1       Agricultural 0          07/02/2015 \n",
       "5 Middlesex Centre 2015 1       Agricultural 1          07/02/2015 \n",
       "6 Middlesex Centre 2015 1       Agricultural 0          07/02/2015 "
      ]
     },
     "metadata": {},
     "output_type": "display_data"
    }
   ],
   "source": [
    "bee_df <- read.csv(\"https://files.ontario.ca/moe_mapping/downloads/4Other/PHAP/Bumble_Bee_Public_Data.csv\") |>\n",
    "    select(1:7, contains(\"total\")) |>\n",
    "    mutate(site_type = case_when(`Site.Type` == \"Agri\" ~ \"Agricultural\",\n",
    "                                 `Site.Type` == \"Agriculture\" ~ \"Agricultural\",\n",
    "                                 TRUE ~ `Site.Type`)) |>\n",
    "    rename(\n",
    "        county = `ï..County`,\n",
    "        site_id = `MOECC.Site.Number`,\n",
    "        year = Year,\n",
    "        sample_date = `Sample.date`) |>\n",
    "    filter(site_type != \"\") |>\n",
    "    pivot_longer(`bimaculatus.total`:`flavidus.total`,\n",
    "                 values_to = \"no_of_bees\", names_to = \"species\") |>\n",
    "    select(county, year, site_id, site_type, no_of_bees, sample_date)\n",
    "\n",
    "head(bee_df)"
   ]
  },
  {
   "cell_type": "markdown",
   "id": "e81fb62c-6ff8-4935-bc28-4e8c5a6d3c3c",
   "metadata": {},
   "source": [
    "### 3. EDA - John"
   ]
  },
  {
   "cell_type": "code",
   "execution_count": 3,
   "id": "135c6f65-82e7-45a3-910a-ec716488b3d2",
   "metadata": {},
   "outputs": [
    {
     "name": "stdout",
     "output_type": "stream",
     "text": [
      "Rows: 3,444\n",
      "Columns: 6\n",
      "$ county      \u001b[3m\u001b[90m<chr>\u001b[39m\u001b[23m \"Middlesex Centre\", \"Middlesex Centre\", \"Middlesex Centre\"~\n",
      "$ year        \u001b[3m\u001b[90m<int>\u001b[39m\u001b[23m 2015, 2015, 2015, 2015, 2015, 2015, 2015, 2015, 2015, 2015~\n",
      "$ site_id     \u001b[3m\u001b[90m<int>\u001b[39m\u001b[23m 1, 1, 1, 1, 1, 1, 1, 1, 1, 1, 1, 1, 1, 1, 2, 2, 2, 2, 2, 2~\n",
      "$ site_type   \u001b[3m\u001b[90m<chr>\u001b[39m\u001b[23m \"Agricultural\", \"Agricultural\", \"Agricultural\", \"Agricultu~\n",
      "$ no_of_bees  \u001b[3m\u001b[90m<int>\u001b[39m\u001b[23m 7, 1, 3, 0, 1, 0, 0, 1, 0, 0, 0, 0, 0, 0, 3, 14, 7, 0, 0, ~\n",
      "$ sample_date \u001b[3m\u001b[90m<chr>\u001b[39m\u001b[23m \"07/02/2015\", \"07/02/2015\", \"07/02/2015\", \"07/02/2015\", \"0~\n"
     ]
    }
   ],
   "source": [
    "glimpse(bee_df)"
   ]
  },
  {
   "cell_type": "code",
   "execution_count": 4,
   "id": "960d35d0-3ffb-4663-9a1e-dc9cc85f676d",
   "metadata": {},
   "outputs": [
    {
     "data": {
      "text/plain": [
       "\n",
       "\n",
       "Table: Table 1. Count of records per site\n",
       "\n",
       "|site_type            | no_of_records|\n",
       "|:--------------------|-------------:|\n",
       "|Agricultural         |          1806|\n",
       "|Natural              |           658|\n",
       "|Semi-natural remnant |           980|"
      ]
     },
     "metadata": {},
     "output_type": "display_data"
    }
   ],
   "source": [
    "bee_summary <- bee_df |>\n",
    "    group_by(site_type) |>\n",
    "    tally() |>\n",
    "    rename(no_of_records = n)\n",
    "\n",
    "kable(bee_summary, caption = \"Table 1. Count of records per site\")"
   ]
  },
  {
   "cell_type": "code",
   "execution_count": 5,
   "id": "b0ae2cc9-894f-4cc1-8ee3-859dc3efe826",
   "metadata": {},
   "outputs": [
    {
     "name": "stderr",
     "output_type": "stream",
     "text": [
      "Warning message:\n",
      "\"Removed 1376 rows containing missing values (geom_point).\"\n"
     ]
    },
    {
     "data": {
      "image/png": "[encoded data removed]",
      "text/plain": [
       "plot without title"
      ]
     },
     "metadata": {
      "image/png": {
       "height": 240,
       "width": 720
      }
     },
     "output_type": "display_data"
    }
   ],
   "source": [
    "options(repr.plot.width=12, repr.plot.height=4)\n",
    "\n",
    "bee_df_jitter <- ggplot(bee_df) +\n",
    "    aes(y = site_type,\n",
    "        x = no_of_bees,\n",
    "        color = site_type) +\n",
    "    geom_jitter() +\n",
    "    labs(x = \"Number of bees per site\",\n",
    "         y = \"\",\n",
    "         color = \"Site types\",\n",
    "         title = \"Distiributions of the Bees Collected on Different Sites\",\n",
    "         subtitle = \"Scales were limited to 60 for representation purposes\"\n",
    "         ) +\n",
    "    scale_x_continuous(limits = c(0, 60)) +\n",
    "    guides(fill = \"none\") +\n",
    "    theme_bw() +\n",
    "    theme(text =  element_text(size = 15))\n",
    "\n",
    "bee_df_jitter\n",
    "#ggsave(\"bee_df_jitter.png\")"
   ]
  },
  {
   "cell_type": "markdown",
   "id": "4fcb1633-fa4d-4a38-b93a-04162ec42e5a",
   "metadata": {},
   "source": [
    "## 4. Analysis - Katia"
   ]
  },
  {
   "cell_type": "markdown",
   "id": "d66969fc-c7ad-48b3-ac56-91b5af4df6cd",
   "metadata": {},
   "source": [
    "### 4.1 Treating data as continous"
   ]
  },
  {
   "cell_type": "code",
   "execution_count": 6,
   "id": "c35b7d50-0770-48ab-a0fc-ca211533730b",
   "metadata": {},
   "outputs": [],
   "source": [
    "bee_df <- bee_df |>\n",
    "    mutate(site_type = as.factor(site_type))"
   ]
  },
  {
   "cell_type": "code",
   "execution_count": 7,
   "id": "4fd36b78-51a3-4ddf-bf30-c435a1c29b4d",
   "metadata": {},
   "outputs": [],
   "source": [
    "all_pairs <- kruskal.test(no_of_bees ~ site_type, data = bee_df)"
   ]
  },
  {
   "cell_type": "code",
   "execution_count": 8,
   "id": "2e86b1a7-00e3-47fd-8423-43a01c4e96b5",
   "metadata": {},
   "outputs": [],
   "source": [
    "agr_nat <- bee_df |> filter(site_type %in% c(\"Agricultural\", \"Natural\"))\n",
    "\n",
    "agr_nat_test <- wilcox.test(no_of_bees ~ site_type,\n",
    "                      data = agr_nat,\n",
    "                      exact = FALSE,\n",
    "                      paired = FALSE,\n",
    "                      alternative = c(\"two.sided\"))"
   ]
  },
  {
   "cell_type": "code",
   "execution_count": 9,
   "id": "52324d6d-9f7f-4520-a9fa-b5dde4c865c5",
   "metadata": {},
   "outputs": [],
   "source": [
    "agr_semi <- bee_df |>\n",
    "    filter(site_type %in% c(\"Agricultural\", \"Semi-natural remnant\"))\n",
    "\n",
    "agr_semi_test <- wilcox.test(no_of_bees ~ site_type,\n",
    "                      data = agr_semi,\n",
    "                      exact = FALSE,\n",
    "                      paired = FALSE,\n",
    "                      alternative = c(\"two.sided\"))"
   ]
  },
  {
   "cell_type": "code",
   "execution_count": 10,
   "id": "981c16a0-f239-4fdf-b308-61ecbc2466ce",
   "metadata": {},
   "outputs": [],
   "source": [
    "nat_semi <- bee_df |>\n",
    "    filter(site_type %in% c(\"Natural\", \"Semi-natural remnant\"))\n",
    "\n",
    "nat_semi_test <- wilcox.test(no_of_bees ~ site_type,\n",
    "                      data = nat_semi,\n",
    "                      exact = FALSE,\n",
    "                      paired = FALSE,\n",
    "                      alternative = c(\"two.sided\"))"
   ]
  },
  {
   "cell_type": "markdown",
   "id": "9bec3c6d-d6af-4a67-bbbf-00f2906b3bb8",
   "metadata": {},
   "source": [
    "### 4.2 Using Poisson regression"
   ]
  },
  {
   "cell_type": "code",
   "execution_count": 11,
   "id": "7586192d-6c16-4439-876c-efeeb9e70f9a",
   "metadata": {},
   "outputs": [],
   "source": [
    "pois_lr_agri <- glm(no_of_bees ~ site_type,\n",
    "               family = poisson,\n",
    "               data = bee_df)\n",
    "\n",
    "pois_lr_natural <- glm(no_of_bees ~ relevel(site_type, ref = \"Natural\"),\n",
    "               family = poisson,\n",
    "               data = bee_df)"
   ]
  },
  {
   "cell_type": "markdown",
   "id": "bea12412-5ea6-4582-8653-cd63efa5d47e",
   "metadata": {},
   "source": [
    "### 4.3 Using Zero-inflation model"
   ]
  },
  {
   "cell_type": "code",
   "execution_count": 12,
   "id": "c3f059c0-b967-4e3f-bae0-2b8cdf86951a",
   "metadata": {},
   "outputs": [],
   "source": [
    "# Zero inflation model: most suitable for our case\n",
    "\n",
    "zip_lm_agri <- zeroinfl(no_of_bees ~ site_type,\n",
    "                   data = bee_df)\n",
    "\n",
    "zip_lm_natural <- zeroinfl(no_of_bees ~ relevel(site_type, ref = \"Natural\"),\n",
    "                   data = bee_df)"
   ]
  },
  {
   "cell_type": "markdown",
   "id": "b87a0bdb-4ac0-4d46-ae3a-6afcec89588c",
   "metadata": {},
   "source": [
    "## 5. Statistical summary tables - Adrienne"
   ]
  },
  {
   "cell_type": "markdown",
   "id": "8ae38164-5a04-446a-8a03-f5e3f1dbe15c",
   "metadata": {},
   "source": [
    "### 5.1 Treating data as continous"
   ]
  },
  {
   "cell_type": "code",
   "execution_count": 13,
   "id": "d231a783-ec87-45c7-9306-ca4cb1f1facd",
   "metadata": {},
   "outputs": [
    {
     "data": {
      "text/html": [
       "<table class=\"dataframe\">\n",
       "<caption>A tibble: 1 × 4</caption>\n",
       "<thead>\n",
       "\t<tr><th scope=col>statistic</th><th scope=col>p.value</th><th scope=col>parameter</th><th scope=col>method</th></tr>\n",
       "\t<tr><th scope=col>&lt;dbl&gt;</th><th scope=col>&lt;dbl&gt;</th><th scope=col>&lt;int&gt;</th><th scope=col>&lt;chr&gt;</th></tr>\n",
       "</thead>\n",
       "<tbody>\n",
       "\t<tr><td>16.2665</td><td>0.0002936117</td><td>2</td><td>Kruskal-Wallis rank sum test</td></tr>\n",
       "</tbody>\n",
       "</table>\n"
      ],
      "text/latex": [
       "A tibble: 1 × 4\n",
       "\\begin{tabular}{llll}\n",
       " statistic & p.value & parameter & method\\\\\n",
       " <dbl> & <dbl> & <int> & <chr>\\\\\n",
       "\\hline\n",
       "\t 16.2665 & 0.0002936117 & 2 & Kruskal-Wallis rank sum test\\\\\n",
       "\\end{tabular}\n"
      ],
      "text/markdown": [
       "\n",
       "A tibble: 1 × 4\n",
       "\n",
       "| statistic &lt;dbl&gt; | p.value &lt;dbl&gt; | parameter &lt;int&gt; | method &lt;chr&gt; |\n",
       "|---|---|---|---|\n",
       "| 16.2665 | 0.0002936117 | 2 | Kruskal-Wallis rank sum test |\n",
       "\n"
      ],
      "text/plain": [
       "  statistic p.value      parameter method                      \n",
       "1 16.2665   0.0002936117 2         Kruskal-Wallis rank sum test"
      ]
     },
     "metadata": {},
     "output_type": "display_data"
    }
   ],
   "source": [
    "tidy(all_pairs)"
   ]
  },
  {
   "cell_type": "code",
   "execution_count": 14,
   "id": "30e2750a-be16-4742-9412-0afd391b7de3",
   "metadata": {},
   "outputs": [
    {
     "data": {
      "text/html": [
       "<table class=\"dataframe\">\n",
       "<caption>A tibble: 1 × 4</caption>\n",
       "<thead>\n",
       "\t<tr><th scope=col>statistic</th><th scope=col>p.value</th><th scope=col>method</th><th scope=col>alternative</th></tr>\n",
       "\t<tr><th scope=col>&lt;dbl&gt;</th><th scope=col>&lt;dbl&gt;</th><th scope=col>&lt;chr&gt;</th><th scope=col>&lt;chr&gt;</th></tr>\n",
       "</thead>\n",
       "<tbody>\n",
       "\t<tr><td>626529.5</td><td>0.002979946</td><td>Wilcoxon rank sum test with continuity correction</td><td>two.sided</td></tr>\n",
       "</tbody>\n",
       "</table>\n"
      ],
      "text/latex": [
       "A tibble: 1 × 4\n",
       "\\begin{tabular}{llll}\n",
       " statistic & p.value & method & alternative\\\\\n",
       " <dbl> & <dbl> & <chr> & <chr>\\\\\n",
       "\\hline\n",
       "\t 626529.5 & 0.002979946 & Wilcoxon rank sum test with continuity correction & two.sided\\\\\n",
       "\\end{tabular}\n"
      ],
      "text/markdown": [
       "\n",
       "A tibble: 1 × 4\n",
       "\n",
       "| statistic &lt;dbl&gt; | p.value &lt;dbl&gt; | method &lt;chr&gt; | alternative &lt;chr&gt; |\n",
       "|---|---|---|---|\n",
       "| 626529.5 | 0.002979946 | Wilcoxon rank sum test with continuity correction | two.sided |\n",
       "\n"
      ],
      "text/plain": [
       "  statistic p.value     method                                           \n",
       "1 626529.5  0.002979946 Wilcoxon rank sum test with continuity correction\n",
       "  alternative\n",
       "1 two.sided  "
      ]
     },
     "metadata": {},
     "output_type": "display_data"
    }
   ],
   "source": [
    "tidy(agr_nat_test)"
   ]
  },
  {
   "cell_type": "code",
   "execution_count": 15,
   "id": "835af4dc-6862-4dd3-a015-e6b482d0cbda",
   "metadata": {},
   "outputs": [
    {
     "data": {
      "text/html": [
       "<table class=\"dataframe\">\n",
       "<caption>A tibble: 1 × 4</caption>\n",
       "<thead>\n",
       "\t<tr><th scope=col>statistic</th><th scope=col>p.value</th><th scope=col>method</th><th scope=col>alternative</th></tr>\n",
       "\t<tr><th scope=col>&lt;dbl&gt;</th><th scope=col>&lt;dbl&gt;</th><th scope=col>&lt;chr&gt;</th><th scope=col>&lt;chr&gt;</th></tr>\n",
       "</thead>\n",
       "<tbody>\n",
       "\t<tr><td>859091.5</td><td>0.08035628</td><td>Wilcoxon rank sum test with continuity correction</td><td>two.sided</td></tr>\n",
       "</tbody>\n",
       "</table>\n"
      ],
      "text/latex": [
       "A tibble: 1 × 4\n",
       "\\begin{tabular}{llll}\n",
       " statistic & p.value & method & alternative\\\\\n",
       " <dbl> & <dbl> & <chr> & <chr>\\\\\n",
       "\\hline\n",
       "\t 859091.5 & 0.08035628 & Wilcoxon rank sum test with continuity correction & two.sided\\\\\n",
       "\\end{tabular}\n"
      ],
      "text/markdown": [
       "\n",
       "A tibble: 1 × 4\n",
       "\n",
       "| statistic &lt;dbl&gt; | p.value &lt;dbl&gt; | method &lt;chr&gt; | alternative &lt;chr&gt; |\n",
       "|---|---|---|---|\n",
       "| 859091.5 | 0.08035628 | Wilcoxon rank sum test with continuity correction | two.sided |\n",
       "\n"
      ],
      "text/plain": [
       "  statistic p.value    method                                           \n",
       "1 859091.5  0.08035628 Wilcoxon rank sum test with continuity correction\n",
       "  alternative\n",
       "1 two.sided  "
      ]
     },
     "metadata": {},
     "output_type": "display_data"
    }
   ],
   "source": [
    "tidy(agr_semi_test)"
   ]
  },
  {
   "cell_type": "code",
   "execution_count": 16,
   "id": "11c63bfb-ddb4-4c33-b129-171e1f2b9686",
   "metadata": {},
   "outputs": [
    {
     "data": {
      "text/html": [
       "<table class=\"dataframe\">\n",
       "<caption>A tibble: 1 × 4</caption>\n",
       "<thead>\n",
       "\t<tr><th scope=col>statistic</th><th scope=col>p.value</th><th scope=col>method</th><th scope=col>alternative</th></tr>\n",
       "\t<tr><th scope=col>&lt;dbl&gt;</th><th scope=col>&lt;dbl&gt;</th><th scope=col>&lt;chr&gt;</th><th scope=col>&lt;chr&gt;</th></tr>\n",
       "</thead>\n",
       "<tbody>\n",
       "\t<tr><td>295555.5</td><td>5.558852e-05</td><td>Wilcoxon rank sum test with continuity correction</td><td>two.sided</td></tr>\n",
       "</tbody>\n",
       "</table>\n"
      ],
      "text/latex": [
       "A tibble: 1 × 4\n",
       "\\begin{tabular}{llll}\n",
       " statistic & p.value & method & alternative\\\\\n",
       " <dbl> & <dbl> & <chr> & <chr>\\\\\n",
       "\\hline\n",
       "\t 295555.5 & 5.558852e-05 & Wilcoxon rank sum test with continuity correction & two.sided\\\\\n",
       "\\end{tabular}\n"
      ],
      "text/markdown": [
       "\n",
       "A tibble: 1 × 4\n",
       "\n",
       "| statistic &lt;dbl&gt; | p.value &lt;dbl&gt; | method &lt;chr&gt; | alternative &lt;chr&gt; |\n",
       "|---|---|---|---|\n",
       "| 295555.5 | 5.558852e-05 | Wilcoxon rank sum test with continuity correction | two.sided |\n",
       "\n"
      ],
      "text/plain": [
       "  statistic p.value      method                                           \n",
       "1 295555.5  5.558852e-05 Wilcoxon rank sum test with continuity correction\n",
       "  alternative\n",
       "1 two.sided  "
      ]
     },
     "metadata": {},
     "output_type": "display_data"
    }
   ],
   "source": [
    "tidy(nat_semi_test)"
   ]
  },
  {
   "cell_type": "markdown",
   "id": "1c57c5e7-0c77-4f66-ab9b-7c53514b36b1",
   "metadata": {},
   "source": [
    "### 5.2 Poisson results"
   ]
  },
  {
   "cell_type": "code",
   "execution_count": 17,
   "id": "080809b8-e6e4-4f17-962e-3673bdfa9d54",
   "metadata": {},
   "outputs": [
    {
     "data": {
      "text/plain": [
       "\n",
       "\n",
       "Table: Table 2. Analysis results\n",
       "\n",
       "|pairs                                     |  estimate| std.error| statistic|   p.value| p_rounded|    coeff|\n",
       "|:-----------------------------------------|---------:|---------:|---------:|---------:|---------:|--------:|\n",
       "|Agricultural(ref) vs natural              | 0.0759158| 0.0409905|  1.852033| 0.0640210|     0.064| 1.078872|\n",
       "|Agricultural(ref) vs semi-natural remnant | 0.2001459| 0.0344886|  5.803244| 0.0000000|     0.000| 1.221581|\n",
       "|Natural(ref) vs semi-natural remnant      | 0.1242301| 0.0438334|  2.834140| 0.0045949|     0.005| 1.132276|"
      ]
     },
     "metadata": {},
     "output_type": "display_data"
    }
   ],
   "source": [
    "agri_table <- tidy(pois_lr_agri)\n",
    "nat_table <- tidy(pois_lr_natural)\n",
    "\n",
    "pairs <- c(\"Agricultural vs natural\",\n",
    "           \"Agricultural vs semi-natural remnant\",\n",
    "           \"Natural vs agricultural\",\n",
    "           \"Natural vs semi-natural remnant\")\n",
    "\n",
    "analysis_table <- rbind(agri_table, nat_table) |>\n",
    "    filter(term != \"(Intercept)\") |>\n",
    "    mutate(p_rounded = round(`p.value`, 3),\n",
    "           coeff = exp(estimate),\n",
    "           pairs = case_when(\n",
    "               term == 'site_typeNatural' ~ \"Agricultural(ref) vs natural\",\n",
    "               term == 'site_typeSemi-natural remnant' ~ \"Agricultural(ref) vs semi-natural remnant\",\n",
    "               term == 'relevel(site_type, ref = \"Natural\")Agricultural' ~ \"Natural(ref) vs agricultural\",\n",
    "               term == 'relevel(site_type, ref = \"Natural\")Semi-natural remnant' ~ \"Natural(ref) vs semi-natural remnant\")) |>\n",
    "    relocate(pairs, .before = estimate) |>\n",
    "    filter(pairs != \"Natural(ref) vs agricultural\") |>\n",
    "    select(-term)\n",
    "\n",
    "kable(analysis_table, caption = \"Table 2. Analysis results\")"
   ]
  },
  {
   "cell_type": "markdown",
   "id": "aea74461-8a8f-4d66-a8d0-068794599d18",
   "metadata": {},
   "source": [
    "### 5.3 Zero-inflation results"
   ]
  },
  {
   "cell_type": "code",
   "execution_count": 18,
   "id": "1bf6dd3d-ff26-421f-94b2-fdc44b18a37d",
   "metadata": {},
   "outputs": [
    {
     "data": {
      "text/plain": [
       "\n",
       "\n",
       "Table: Table 3. Zero inflation model results\n",
       "\n",
       "|pairs                                     | count_estimate|  count_SE| count_Z_value| count_p_value|     coeff| p_rounded|\n",
       "|:-----------------------------------------|--------------:|---------:|-------------:|-------------:|---------:|---------:|\n",
       "|Agricultural(ref) vs natural              |      0.3721031| 0.0411766|      9.036757|      0.000000| 1.4507826|     0.000|\n",
       "|Agricultural(ref) vs semi-natural remnant |      0.0781625| 0.0348273|      2.244286|      0.024814| 1.0812984|     0.025|\n",
       "|Natural(ref) vs semi-natural remnant      |     -0.2939406| 0.0440126|     -6.678553|      0.000000| 0.7453207|     0.000|"
      ]
     },
     "metadata": {},
     "output_type": "display_data"
    }
   ],
   "source": [
    "# Zero inflation model results\n",
    "\n",
    "zip_agri <- as.data.frame(summary(zip_lm_agri)[1]) |>\n",
    "    select(1:4) |>\n",
    "    mutate(coeff = exp(coefficients.count.Estimate),\n",
    "           p_rounded = round(`coefficients.count.Pr...z..`, 3))\n",
    "\n",
    "zip_natural <- as.data.frame(summary(zip_lm_natural)[1]) |>\n",
    "    select(1:4) |>\n",
    "    mutate(coeff = exp(coefficients.count.Estimate),\n",
    "           p_rounded = round(`coefficients.count.Pr...z..`, 3))\n",
    "\n",
    "zip_analysis_table <- rbind(zip_agri, zip_natural)|>\n",
    "    tibble::rownames_to_column(\"pairs\") |>\n",
    "    filter(!str_detect(pairs, \"Intercept\"),\n",
    "          pairs != 'relevel(site_type, ref = \"Natural\")Agricultural') |>\n",
    "    mutate(pairs = case_when(\n",
    "               pairs == 'site_typeNatural' ~ \"Agricultural(ref) vs natural\",\n",
    "               pairs == 'site_typeSemi-natural remnant' ~ \"Agricultural(ref) vs semi-natural remnant\",\n",
    "               pairs == 'relevel(site_type, ref = \"Natural\")Agricultural' ~ \"Natural(ref) vs agricultural\",\n",
    "               pairs == 'relevel(site_type, ref = \"Natural\")Semi-natural remnant' ~ \"Natural(ref) vs semi-natural remnant\")) |>\n",
    "    rename(count_estimate = coefficients.count.Estimate,\n",
    "           count_SE = coefficients.count.Std..Error,\n",
    "           count_Z_value = coefficients.count.z.value,\n",
    "           count_p_value = coefficients.count.Pr...z..)\n",
    "    \n",
    "\n",
    "kable(zip_analysis_table, caption = \"Table 3. Zero inflation model results\")"
   ]
  }
 ],
 "metadata": {
  "kernelspec": {
   "display_name": "R",
   "language": "R",
   "name": "ir"
  },
  "language_info": {
   "codemirror_mode": "r",
   "file_extension": ".r",
   "mimetype": "text/x-r-source",
   "name": "R",
   "pygments_lexer": "r",
   "version": "4.1.2"
  }
 },
 "nbformat": 4,
 "nbformat_minor": 5
}
