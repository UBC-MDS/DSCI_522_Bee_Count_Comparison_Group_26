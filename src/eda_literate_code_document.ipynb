{
 "cells": [
  {
   "cell_type": "code",
   "execution_count": 1,
   "id": "236ac40e-729e-4b2a-b84f-1beeb7159230",
   "metadata": {},
   "outputs": [
    {
     "name": "stderr",
     "output_type": "stream",
     "text": [
      "-- \u001b[1mAttaching packages\u001b[22m ------------------------------------------------------------------------------- tidyverse 1.3.1 --\n",
      "\n",
      "\u001b[32mv\u001b[39m \u001b[34mggplot2\u001b[39m 3.3.5     \u001b[32mv\u001b[39m \u001b[34mpurrr  \u001b[39m 0.3.4\n",
      "\u001b[32mv\u001b[39m \u001b[34mtibble \u001b[39m 3.1.5     \u001b[32mv\u001b[39m \u001b[34mdplyr  \u001b[39m 1.0.7\n",
      "\u001b[32mv\u001b[39m \u001b[34mtidyr  \u001b[39m 1.1.3     \u001b[32mv\u001b[39m \u001b[34mstringr\u001b[39m 1.4.0\n",
      "\u001b[32mv\u001b[39m \u001b[34mreadr  \u001b[39m 2.0.2     \u001b[32mv\u001b[39m \u001b[34mforcats\u001b[39m 0.5.1\n",
      "\n",
      "-- \u001b[1mConflicts\u001b[22m ---------------------------------------------------------------------------------- tidyverse_conflicts() --\n",
      "\u001b[31mx\u001b[39m \u001b[34mdplyr\u001b[39m::\u001b[32mfilter()\u001b[39m masks \u001b[34mstats\u001b[39m::filter()\n",
      "\u001b[31mx\u001b[39m \u001b[34mdplyr\u001b[39m::\u001b[32mlag()\u001b[39m    masks \u001b[34mstats\u001b[39m::lag()\n",
      "\n"
     ]
    }
   ],
   "source": [
    "library(tidyverse)\n",
    "library(ggplot2)\n",
    "options(repr.matrix.max.rows = 20)\n",
    "library(boot)"
   ]
  },
  {
   "cell_type": "code",
   "execution_count": 2,
   "id": "eb0bfc20-5b19-47e9-a6f6-15b6556e8d5b",
   "metadata": {},
   "outputs": [
    {
     "name": "stderr",
     "output_type": "stream",
     "text": [
      "`summarise()` has grouped output by 'site_id'. You can override using the `.groups` argument.\n",
      "\n"
     ]
    },
    {
     "data": {
      "text/html": [
       "<table class=\"dataframe\">\n",
       "<caption>A tibble: 3444 × 6</caption>\n",
       "<thead>\n",
       "\t<tr><th scope=col>county</th><th scope=col>year</th><th scope=col>site_id</th><th scope=col>site_type</th><th scope=col>no_of_bees</th><th scope=col>sample_date</th></tr>\n",
       "\t<tr><th scope=col>&lt;chr&gt;</th><th scope=col>&lt;int&gt;</th><th scope=col>&lt;int&gt;</th><th scope=col>&lt;chr&gt;</th><th scope=col>&lt;int&gt;</th><th scope=col>&lt;chr&gt;</th></tr>\n",
       "</thead>\n",
       "<tbody>\n",
       "\t<tr><td>Middlesex Centre</td><td>2015</td><td>1</td><td>Agricultural</td><td>7</td><td>07/02/2015</td></tr>\n",
       "\t<tr><td>Middlesex Centre</td><td>2015</td><td>1</td><td>Agricultural</td><td>1</td><td>07/02/2015</td></tr>\n",
       "\t<tr><td>Middlesex Centre</td><td>2015</td><td>1</td><td>Agricultural</td><td>3</td><td>07/02/2015</td></tr>\n",
       "\t<tr><td>Middlesex Centre</td><td>2015</td><td>1</td><td>Agricultural</td><td>0</td><td>07/02/2015</td></tr>\n",
       "\t<tr><td>Middlesex Centre</td><td>2015</td><td>1</td><td>Agricultural</td><td>1</td><td>07/02/2015</td></tr>\n",
       "\t<tr><td>Middlesex Centre</td><td>2015</td><td>1</td><td>Agricultural</td><td>0</td><td>07/02/2015</td></tr>\n",
       "\t<tr><td>Middlesex Centre</td><td>2015</td><td>1</td><td>Agricultural</td><td>0</td><td>07/02/2015</td></tr>\n",
       "\t<tr><td>Middlesex Centre</td><td>2015</td><td>1</td><td>Agricultural</td><td>1</td><td>07/02/2015</td></tr>\n",
       "\t<tr><td>Middlesex Centre</td><td>2015</td><td>1</td><td>Agricultural</td><td>0</td><td>07/02/2015</td></tr>\n",
       "\t<tr><td>Middlesex Centre</td><td>2015</td><td>1</td><td>Agricultural</td><td>0</td><td>07/02/2015</td></tr>\n",
       "\t<tr><td>...</td><td>...</td><td>...</td><td>...</td><td>...</td><td>...</td></tr>\n",
       "\t<tr><td>Oxford</td><td>2017</td><td>67</td><td>Natural</td><td>0</td><td>06/07/2017</td></tr>\n",
       "\t<tr><td>Oxford</td><td>2017</td><td>67</td><td>Natural</td><td>0</td><td>06/07/2017</td></tr>\n",
       "\t<tr><td>Oxford</td><td>2017</td><td>67</td><td>Natural</td><td>0</td><td>06/07/2017</td></tr>\n",
       "\t<tr><td>Oxford</td><td>2017</td><td>67</td><td>Natural</td><td>0</td><td>06/07/2017</td></tr>\n",
       "\t<tr><td>Oxford</td><td>2017</td><td>67</td><td>Natural</td><td>0</td><td>06/07/2017</td></tr>\n",
       "\t<tr><td>Oxford</td><td>2017</td><td>67</td><td>Natural</td><td>0</td><td>06/07/2017</td></tr>\n",
       "\t<tr><td>Oxford</td><td>2017</td><td>67</td><td>Natural</td><td>0</td><td>06/07/2017</td></tr>\n",
       "\t<tr><td>Oxford</td><td>2017</td><td>67</td><td>Natural</td><td>0</td><td>06/07/2017</td></tr>\n",
       "\t<tr><td>Oxford</td><td>2017</td><td>67</td><td>Natural</td><td>0</td><td>06/07/2017</td></tr>\n",
       "\t<tr><td>Oxford</td><td>2017</td><td>67</td><td>Natural</td><td>0</td><td>06/07/2017</td></tr>\n",
       "</tbody>\n",
       "</table>\n"
      ],
      "text/latex": [
       "A tibble: 3444 × 6\n",
       "\\begin{tabular}{llllll}\n",
       " county & year & site\\_id & site\\_type & no\\_of\\_bees & sample\\_date\\\\\n",
       " <chr> & <int> & <int> & <chr> & <int> & <chr>\\\\\n",
       "\\hline\n",
       "\t Middlesex Centre & 2015 & 1 & Agricultural & 7 & 07/02/2015\\\\\n",
       "\t Middlesex Centre & 2015 & 1 & Agricultural & 1 & 07/02/2015\\\\\n",
       "\t Middlesex Centre & 2015 & 1 & Agricultural & 3 & 07/02/2015\\\\\n",
       "\t Middlesex Centre & 2015 & 1 & Agricultural & 0 & 07/02/2015\\\\\n",
       "\t Middlesex Centre & 2015 & 1 & Agricultural & 1 & 07/02/2015\\\\\n",
       "\t Middlesex Centre & 2015 & 1 & Agricultural & 0 & 07/02/2015\\\\\n",
       "\t Middlesex Centre & 2015 & 1 & Agricultural & 0 & 07/02/2015\\\\\n",
       "\t Middlesex Centre & 2015 & 1 & Agricultural & 1 & 07/02/2015\\\\\n",
       "\t Middlesex Centre & 2015 & 1 & Agricultural & 0 & 07/02/2015\\\\\n",
       "\t Middlesex Centre & 2015 & 1 & Agricultural & 0 & 07/02/2015\\\\\n",
       "\t ... & ... & ... & ... & ... & ...\\\\\n",
       "\t Oxford & 2017 & 67 & Natural & 0 & 06/07/2017\\\\\n",
       "\t Oxford & 2017 & 67 & Natural & 0 & 06/07/2017\\\\\n",
       "\t Oxford & 2017 & 67 & Natural & 0 & 06/07/2017\\\\\n",
       "\t Oxford & 2017 & 67 & Natural & 0 & 06/07/2017\\\\\n",
       "\t Oxford & 2017 & 67 & Natural & 0 & 06/07/2017\\\\\n",
       "\t Oxford & 2017 & 67 & Natural & 0 & 06/07/2017\\\\\n",
       "\t Oxford & 2017 & 67 & Natural & 0 & 06/07/2017\\\\\n",
       "\t Oxford & 2017 & 67 & Natural & 0 & 06/07/2017\\\\\n",
       "\t Oxford & 2017 & 67 & Natural & 0 & 06/07/2017\\\\\n",
       "\t Oxford & 2017 & 67 & Natural & 0 & 06/07/2017\\\\\n",
       "\\end{tabular}\n"
      ],
      "text/markdown": [
       "\n",
       "A tibble: 3444 × 6\n",
       "\n",
       "| county &lt;chr&gt; | year &lt;int&gt; | site_id &lt;int&gt; | site_type &lt;chr&gt; | no_of_bees &lt;int&gt; | sample_date &lt;chr&gt; |\n",
       "|---|---|---|---|---|---|\n",
       "| Middlesex Centre | 2015 | 1 | Agricultural | 7 | 07/02/2015 |\n",
       "| Middlesex Centre | 2015 | 1 | Agricultural | 1 | 07/02/2015 |\n",
       "| Middlesex Centre | 2015 | 1 | Agricultural | 3 | 07/02/2015 |\n",
       "| Middlesex Centre | 2015 | 1 | Agricultural | 0 | 07/02/2015 |\n",
       "| Middlesex Centre | 2015 | 1 | Agricultural | 1 | 07/02/2015 |\n",
       "| Middlesex Centre | 2015 | 1 | Agricultural | 0 | 07/02/2015 |\n",
       "| Middlesex Centre | 2015 | 1 | Agricultural | 0 | 07/02/2015 |\n",
       "| Middlesex Centre | 2015 | 1 | Agricultural | 1 | 07/02/2015 |\n",
       "| Middlesex Centre | 2015 | 1 | Agricultural | 0 | 07/02/2015 |\n",
       "| Middlesex Centre | 2015 | 1 | Agricultural | 0 | 07/02/2015 |\n",
       "| ... | ... | ... | ... | ... | ... |\n",
       "| Oxford | 2017 | 67 | Natural | 0 | 06/07/2017 |\n",
       "| Oxford | 2017 | 67 | Natural | 0 | 06/07/2017 |\n",
       "| Oxford | 2017 | 67 | Natural | 0 | 06/07/2017 |\n",
       "| Oxford | 2017 | 67 | Natural | 0 | 06/07/2017 |\n",
       "| Oxford | 2017 | 67 | Natural | 0 | 06/07/2017 |\n",
       "| Oxford | 2017 | 67 | Natural | 0 | 06/07/2017 |\n",
       "| Oxford | 2017 | 67 | Natural | 0 | 06/07/2017 |\n",
       "| Oxford | 2017 | 67 | Natural | 0 | 06/07/2017 |\n",
       "| Oxford | 2017 | 67 | Natural | 0 | 06/07/2017 |\n",
       "| Oxford | 2017 | 67 | Natural | 0 | 06/07/2017 |\n",
       "\n"
      ],
      "text/plain": [
       "     county           year site_id site_type    no_of_bees sample_date\n",
       "1    Middlesex Centre 2015 1       Agricultural 7          07/02/2015 \n",
       "2    Middlesex Centre 2015 1       Agricultural 1          07/02/2015 \n",
       "3    Middlesex Centre 2015 1       Agricultural 3          07/02/2015 \n",
       "4    Middlesex Centre 2015 1       Agricultural 0          07/02/2015 \n",
       "5    Middlesex Centre 2015 1       Agricultural 1          07/02/2015 \n",
       "6    Middlesex Centre 2015 1       Agricultural 0          07/02/2015 \n",
       "7    Middlesex Centre 2015 1       Agricultural 0          07/02/2015 \n",
       "8    Middlesex Centre 2015 1       Agricultural 1          07/02/2015 \n",
       "9    Middlesex Centre 2015 1       Agricultural 0          07/02/2015 \n",
       "10   Middlesex Centre 2015 1       Agricultural 0          07/02/2015 \n",
       "...  ...              ...  ...     ...          ...        ...        \n",
       "3435 Oxford           2017 67      Natural      0          06/07/2017 \n",
       "3436 Oxford           2017 67      Natural      0          06/07/2017 \n",
       "3437 Oxford           2017 67      Natural      0          06/07/2017 \n",
       "3438 Oxford           2017 67      Natural      0          06/07/2017 \n",
       "3439 Oxford           2017 67      Natural      0          06/07/2017 \n",
       "3440 Oxford           2017 67      Natural      0          06/07/2017 \n",
       "3441 Oxford           2017 67      Natural      0          06/07/2017 \n",
       "3442 Oxford           2017 67      Natural      0          06/07/2017 \n",
       "3443 Oxford           2017 67      Natural      0          06/07/2017 \n",
       "3444 Oxford           2017 67      Natural      0          06/07/2017 "
      ]
     },
     "metadata": {},
     "output_type": "display_data"
    },
    {
     "data": {
      "text/html": [
       "<table class=\"dataframe\">\n",
       "<caption>A grouped_df: 93 × 3</caption>\n",
       "<thead>\n",
       "\t<tr><th scope=col>site_id</th><th scope=col>site_type</th><th scope=col>bees_per_site</th></tr>\n",
       "\t<tr><th scope=col>&lt;int&gt;</th><th scope=col>&lt;chr&gt;</th><th scope=col>&lt;int&gt;</th></tr>\n",
       "</thead>\n",
       "<tbody>\n",
       "\t<tr><td>1</td><td>Agricultural        </td><td> 73</td></tr>\n",
       "\t<tr><td>2</td><td>Agricultural        </td><td> 25</td></tr>\n",
       "\t<tr><td>3</td><td>Agricultural        </td><td> 20</td></tr>\n",
       "\t<tr><td>4</td><td>Agricultural        </td><td> 73</td></tr>\n",
       "\t<tr><td>5</td><td>Natural             </td><td>  0</td></tr>\n",
       "\t<tr><td>5</td><td>Semi-natural remnant</td><td> 48</td></tr>\n",
       "\t<tr><td>6</td><td>Agricultural        </td><td> 57</td></tr>\n",
       "\t<tr><td>7</td><td>Natural             </td><td>151</td></tr>\n",
       "\t<tr><td>7</td><td>Semi-natural remnant</td><td>115</td></tr>\n",
       "\t<tr><td>8</td><td>Agricultural        </td><td> 32</td></tr>\n",
       "\t<tr><td>...</td><td>...</td><td>...</td></tr>\n",
       "\t<tr><td>58</td><td>Agricultural</td><td>14</td></tr>\n",
       "\t<tr><td>59</td><td>Agricultural</td><td> 1</td></tr>\n",
       "\t<tr><td>60</td><td>Agricultural</td><td>32</td></tr>\n",
       "\t<tr><td>61</td><td>Natural     </td><td> 4</td></tr>\n",
       "\t<tr><td>62</td><td>Agricultural</td><td>14</td></tr>\n",
       "\t<tr><td>63</td><td>Agricultural</td><td> 8</td></tr>\n",
       "\t<tr><td>64</td><td>Agricultural</td><td> 2</td></tr>\n",
       "\t<tr><td>65</td><td>Agricultural</td><td>18</td></tr>\n",
       "\t<tr><td>66</td><td>Agricultural</td><td> 9</td></tr>\n",
       "\t<tr><td>67</td><td>Natural     </td><td> 0</td></tr>\n",
       "</tbody>\n",
       "</table>\n"
      ],
      "text/latex": [
       "A grouped\\_df: 93 × 3\n",
       "\\begin{tabular}{lll}\n",
       " site\\_id & site\\_type & bees\\_per\\_site\\\\\n",
       " <int> & <chr> & <int>\\\\\n",
       "\\hline\n",
       "\t 1 & Agricultural         &  73\\\\\n",
       "\t 2 & Agricultural         &  25\\\\\n",
       "\t 3 & Agricultural         &  20\\\\\n",
       "\t 4 & Agricultural         &  73\\\\\n",
       "\t 5 & Natural              &   0\\\\\n",
       "\t 5 & Semi-natural remnant &  48\\\\\n",
       "\t 6 & Agricultural         &  57\\\\\n",
       "\t 7 & Natural              & 151\\\\\n",
       "\t 7 & Semi-natural remnant & 115\\\\\n",
       "\t 8 & Agricultural         &  32\\\\\n",
       "\t ... & ... & ...\\\\\n",
       "\t 58 & Agricultural & 14\\\\\n",
       "\t 59 & Agricultural &  1\\\\\n",
       "\t 60 & Agricultural & 32\\\\\n",
       "\t 61 & Natural      &  4\\\\\n",
       "\t 62 & Agricultural & 14\\\\\n",
       "\t 63 & Agricultural &  8\\\\\n",
       "\t 64 & Agricultural &  2\\\\\n",
       "\t 65 & Agricultural & 18\\\\\n",
       "\t 66 & Agricultural &  9\\\\\n",
       "\t 67 & Natural      &  0\\\\\n",
       "\\end{tabular}\n"
      ],
      "text/markdown": [
       "\n",
       "A grouped_df: 93 × 3\n",
       "\n",
       "| site_id &lt;int&gt; | site_type &lt;chr&gt; | bees_per_site &lt;int&gt; |\n",
       "|---|---|---|\n",
       "| 1 | Agricultural         |  73 |\n",
       "| 2 | Agricultural         |  25 |\n",
       "| 3 | Agricultural         |  20 |\n",
       "| 4 | Agricultural         |  73 |\n",
       "| 5 | Natural              |   0 |\n",
       "| 5 | Semi-natural remnant |  48 |\n",
       "| 6 | Agricultural         |  57 |\n",
       "| 7 | Natural              | 151 |\n",
       "| 7 | Semi-natural remnant | 115 |\n",
       "| 8 | Agricultural         |  32 |\n",
       "| ... | ... | ... |\n",
       "| 58 | Agricultural | 14 |\n",
       "| 59 | Agricultural |  1 |\n",
       "| 60 | Agricultural | 32 |\n",
       "| 61 | Natural      |  4 |\n",
       "| 62 | Agricultural | 14 |\n",
       "| 63 | Agricultural |  8 |\n",
       "| 64 | Agricultural |  2 |\n",
       "| 65 | Agricultural | 18 |\n",
       "| 66 | Agricultural |  9 |\n",
       "| 67 | Natural      |  0 |\n",
       "\n"
      ],
      "text/plain": [
       "    site_id site_type            bees_per_site\n",
       "1   1       Agricultural          73          \n",
       "2   2       Agricultural          25          \n",
       "3   3       Agricultural          20          \n",
       "4   4       Agricultural          73          \n",
       "5   5       Natural                0          \n",
       "6   5       Semi-natural remnant  48          \n",
       "7   6       Agricultural          57          \n",
       "8   7       Natural              151          \n",
       "9   7       Semi-natural remnant 115          \n",
       "10  8       Agricultural          32          \n",
       "... ...     ...                  ...          \n",
       "84  58      Agricultural         14           \n",
       "85  59      Agricultural          1           \n",
       "86  60      Agricultural         32           \n",
       "87  61      Natural               4           \n",
       "88  62      Agricultural         14           \n",
       "89  63      Agricultural          8           \n",
       "90  64      Agricultural          2           \n",
       "91  65      Agricultural         18           \n",
       "92  66      Agricultural          9           \n",
       "93  67      Natural               0           "
      ]
     },
     "metadata": {},
     "output_type": "display_data"
    }
   ],
   "source": [
    "# download and simplify the bee dataset\n",
    "\n",
    "bees <- read.csv(\"https://files.ontario.ca/moe_mapping/downloads/4Other/PHAP/Bumble_Bee_Public_Data.csv\") |>\n",
    "    select(1:7, contains(\"total\")) |>\n",
    "    mutate(site_type = case_when(`Site.Type` == \"Agri\" ~ \"Agricultural\",\n",
    "                                 `Site.Type` == \"Agriculture\" ~ \"Agricultural\",\n",
    "                                 TRUE ~ `Site.Type`)) |>\n",
    "    rename(\n",
    "        county = `ï..County`,\n",
    "        site_id = `MOECC.Site.Number`,\n",
    "        year = Year,\n",
    "        sample_date = `Sample.date`) |>\n",
    "    filter(site_type != \"\") |>\n",
    "    pivot_longer(`bimaculatus.total`:`flavidus.total`,\n",
    "                 values_to = \"no_of_bees\", names_to = \"species\") |>\n",
    "    select(county, year, site_id, site_type, no_of_bees, sample_date)\n",
    "\n",
    "bee_df <- bees |>\n",
    "    group_by(site_id, site_type) |>\n",
    "    summarise(bees_per_site = sum(no_of_bees)) |>\n",
    "    arrange(site_id)\n",
    "bees\n",
    "bee_df"
   ]
  },
  {
   "cell_type": "code",
   "execution_count": 3,
   "id": "bf156116-6aaa-4113-a391-92f0bd227334",
   "metadata": {},
   "outputs": [
    {
     "data": {
      "text/plain": [
       "    site_id       site_type         bees_per_site   \n",
       " Min.   : 1.00   Length:93          Min.   :  0.00  \n",
       " 1st Qu.:17.00   Class :character   1st Qu.: 13.00  \n",
       " Median :30.00   Mode  :character   Median : 32.00  \n",
       " Mean   :31.62                      Mean   : 46.62  \n",
       " 3rd Qu.:46.00                      3rd Qu.: 69.00  \n",
       " Max.   :67.00                      Max.   :235.00  "
      ]
     },
     "metadata": {},
     "output_type": "display_data"
    }
   ],
   "source": [
    "summary(bee_df)"
   ]
  },
  {
   "cell_type": "code",
   "execution_count": 4,
   "id": "ab5695ec-0a42-44ba-a16b-dc28c45d86a4",
   "metadata": {},
   "outputs": [
    {
     "name": "stdout",
     "output_type": "stream",
     "text": [
      "Rows: 93\n",
      "Columns: 3\n",
      "Groups: site_id [67]\n",
      "$ site_id       \u001b[3m\u001b[90m<int>\u001b[39m\u001b[23m 1, 2, 3, 4, 5, 5, 6, 7, 7, 8, 9, 9, 10, 10, 11, 12, 12, ~\n",
      "$ site_type     \u001b[3m\u001b[90m<chr>\u001b[39m\u001b[23m \"Agricultural\", \"Agricultural\", \"Agricultural\", \"Agricul~\n",
      "$ bees_per_site \u001b[3m\u001b[90m<int>\u001b[39m\u001b[23m 73, 25, 20, 73, 0, 48, 57, 151, 115, 32, 15, 49, 11, 90,~\n"
     ]
    }
   ],
   "source": [
    "glimpse(bee_df)"
   ]
  },
  {
   "cell_type": "code",
   "execution_count": 5,
   "id": "023bb41a-f0af-49a4-81b1-075eaee9aa25",
   "metadata": {},
   "outputs": [
    {
     "data": {
      "text/plain": [
       "\n",
       "        Agricultural              Natural Semi-natural remnant \n",
       "                  45                   24                   24 "
      ]
     },
     "metadata": {},
     "output_type": "display_data"
    }
   ],
   "source": [
    "table(bee_df$site_type)"
   ]
  },
  {
   "cell_type": "code",
   "execution_count": 6,
   "id": "a440e826-df13-4964-ae92-92fb09c48d17",
   "metadata": {},
   "outputs": [
    {
     "data": {
      "image/png": "[encoded data removed]",
      "text/plain": [
       "plot without title"
      ]
     },
     "metadata": {
      "image/png": {
       "height": 420,
       "width": 420
      }
     },
     "output_type": "display_data"
    }
   ],
   "source": [
    "# Distiributions of the bees collected on different sites (Histogram)\n",
    "\n",
    "bee_df_hist <- ggplot(bee_df) +\n",
    "    aes(x = bees_per_site,\n",
    "        fill = site_type) +\n",
    "    geom_histogram(bins = 40, color = 'white') +\n",
    "    facet_wrap(~site_type, ncol = 1) +\n",
    "    labs(x = \"Number of bees per site\",\n",
    "         y = \"Count\",\n",
    "         fill = \"Site types\",\n",
    "         title = \"Distiributions of the Bees Collected on Different Sites\"\n",
    "         ) +\n",
    "    theme_bw() +\n",
    "    theme(text =  element_text(size = 15))\n",
    "    \n",
    "\n",
    "bee_df_hist"
   ]
  },
  {
   "cell_type": "code",
   "execution_count": 7,
   "id": "66370bca-bbe1-4d4b-bc6d-1e508fac7593",
   "metadata": {},
   "outputs": [
    {
     "data": {
      "image/png": "[encoded data removed]",
      "text/plain": [
       "plot without title"
      ]
     },
     "metadata": {
      "image/png": {
       "height": 300,
       "width": 540
      }
     },
     "output_type": "display_data"
    }
   ],
   "source": [
    "# Distiributions of the bees collected on different sites (Violin Plot with Mean)\n",
    "\n",
    "options(repr.plot.width=9, repr.plot.height=5)\n",
    "\n",
    "bee_df_plot <- ggplot(bee_df) +\n",
    "    aes(y = site_type,\n",
    "        x = bees_per_site,\n",
    "        fill = site_type) +\n",
    "    geom_violin() +\n",
    "    geom_point(stat = \"summary\", fun = median, size = 3) +\n",
    "    geom_point(stat = \"summary\", fun = mean, size = 3,\n",
    "               shape = 15, color = \"white\") +\n",
    "    labs(x = \"Number of bees per site\",\n",
    "         y = \"Site types\",\n",
    "         fill = \"Site types\",\n",
    "         title = \"Distiributions of the Bees Collected on Different Sites\",\n",
    "         subtitle = \"Black dot is median value, white square dot is mean\"\n",
    "         ) +\n",
    "    guides(fill = \"none\") +\n",
    "    theme_bw() +\n",
    "    theme(text =  element_text(size = 15))\n",
    "\n",
    "bee_df_plot"
   ]
  },
  {
   "cell_type": "code",
   "execution_count": 8,
   "id": "de71e016-dfce-484a-8846-319ff01591e4",
   "metadata": {},
   "outputs": [
    {
     "data": {
      "image/png": "[encoded data removed]",
      "text/plain": [
       "plot without title"
      ]
     },
     "metadata": {
      "image/png": {
       "height": 300,
       "width": 540
      }
     },
     "output_type": "display_data"
    }
   ],
   "source": [
    "# Attribution: median_cl_boot was created by RPubs here:\n",
    "# https://rpubs.com/dgolicher/median_boot\n",
    "# This function is entirely copied from this source\n",
    "\n",
    "median_cl_boot <- function(x, conf = 0.95) {\n",
    "    lconf <- (1 - conf)/2\n",
    "    uconf <- 1 - lconf\n",
    "    require(boot)\n",
    "    bmedian <- function(x, ind) median(x[ind])\n",
    "    bt <- boot(x, bmedian, 1000)\n",
    "    bb <- boot.ci(bt, type = \"perc\")\n",
    "    data.frame(y = median(x), ymin = quantile(bt$t, lconf), ymax = quantile(bt$t, \n",
    "        uconf))\n",
    "}\n",
    "\n",
    "options(repr.plot.width=9, repr.plot.height=5)\n",
    "\n",
    "bee_df_plot <- ggplot(bee_df) +\n",
    "    aes(y = site_type,\n",
    "        x = bees_per_site) +\n",
    "    geom_point(shape = '|', color='grey', size=5) +\n",
    "    geom_pointrange(stat = 'summary', fun.data = median_cl_boot, size = 0.7) +\n",
    "    labs(x = \"Number of bees per site\",\n",
    "         y = \"Site types\",\n",
    "         fill = \"Site types\",\n",
    "         title = \"Distiributions of the Bees Collected on Different Sites\",\n",
    "         subtitle = \"Error bars are simulated 95% confidence intervals for a median\"\n",
    "         ) +\n",
    "    guides(fill = \"none\") +\n",
    "    theme_bw() +\n",
    "    theme(text =  element_text(size = 15))\n",
    "\n",
    "bee_df_plot"
   ]
  },
  {
   "cell_type": "markdown",
   "id": "e9270db1-80b0-4ae4-8b28-0dff8c0c7f1d",
   "metadata": {},
   "source": [
    "### Katia's exploration: Grouping by date instead"
   ]
  },
  {
   "cell_type": "code",
   "execution_count": 9,
   "id": "60154178-7a57-4449-a7ed-536c54ca037b",
   "metadata": {},
   "outputs": [
    {
     "name": "stderr",
     "output_type": "stream",
     "text": [
      "`summarise()` has grouped output by 'sample_date', 'site_type'. You can override using the `.groups` argument.\n",
      "\n"
     ]
    },
    {
     "data": {
      "text/html": [
       "<table class=\"dataframe\">\n",
       "<caption>A grouped_df: 246 × 4</caption>\n",
       "<thead>\n",
       "\t<tr><th scope=col>sample_date</th><th scope=col>site_type</th><th scope=col>site_id</th><th scope=col>bees_per_site</th></tr>\n",
       "\t<tr><th scope=col>&lt;chr&gt;</th><th scope=col>&lt;chr&gt;</th><th scope=col>&lt;int&gt;</th><th scope=col>&lt;int&gt;</th></tr>\n",
       "</thead>\n",
       "<tbody>\n",
       "\t<tr><td>05/27/2015</td><td>Agricultural        </td><td>21</td><td>19</td></tr>\n",
       "\t<tr><td>05/28/2015</td><td>Agricultural        </td><td> 3</td><td>20</td></tr>\n",
       "\t<tr><td>05/28/2015</td><td>Semi-natural remnant</td><td>16</td><td> 0</td></tr>\n",
       "\t<tr><td>05/28/2015</td><td>Semi-natural remnant</td><td>30</td><td>13</td></tr>\n",
       "\t<tr><td>05/30/2017</td><td>Natural             </td><td>27</td><td>11</td></tr>\n",
       "\t<tr><td>06/03/2015</td><td>Agricultural        </td><td> 4</td><td>13</td></tr>\n",
       "\t<tr><td>06/03/2015</td><td>Semi-natural remnant</td><td> 9</td><td> 7</td></tr>\n",
       "\t<tr><td>06/04/2015</td><td>Agricultural        </td><td>38</td><td>10</td></tr>\n",
       "\t<tr><td>06/04/2015</td><td>Semi-natural remnant</td><td>24</td><td>14</td></tr>\n",
       "\t<tr><td>06/07/2017</td><td>Agricultural        </td><td>17</td><td> 1</td></tr>\n",
       "\t<tr><td>...</td><td>...</td><td>...</td><td>...</td></tr>\n",
       "\t<tr><td>08/21/2015</td><td>Semi-natural remnant</td><td>35</td><td>49</td></tr>\n",
       "\t<tr><td>08/21/2015</td><td>Semi-natural remnant</td><td>44</td><td>17</td></tr>\n",
       "\t<tr><td>08/23/2016</td><td>Agricultural        </td><td>26</td><td> 4</td></tr>\n",
       "\t<tr><td>09/18/2015</td><td>Agricultural        </td><td>42</td><td>13</td></tr>\n",
       "\t<tr><td>09/23/2015</td><td>Agricultural        </td><td>34</td><td>13</td></tr>\n",
       "\t<tr><td>09/23/2015</td><td>Agricultural        </td><td>46</td><td>17</td></tr>\n",
       "\t<tr><td>09/23/2015</td><td>Semi-natural remnant</td><td>40</td><td>15</td></tr>\n",
       "\t<tr><td>10/01/2015</td><td>Agricultural        </td><td>26</td><td> 0</td></tr>\n",
       "\t<tr><td>10/01/2015</td><td>Agricultural        </td><td>41</td><td> 1</td></tr>\n",
       "\t<tr><td>10/01/2015</td><td>Semi-natural remnant</td><td>44</td><td>20</td></tr>\n",
       "</tbody>\n",
       "</table>\n"
      ],
      "text/latex": [
       "A grouped\\_df: 246 × 4\n",
       "\\begin{tabular}{llll}\n",
       " sample\\_date & site\\_type & site\\_id & bees\\_per\\_site\\\\\n",
       " <chr> & <chr> & <int> & <int>\\\\\n",
       "\\hline\n",
       "\t 05/27/2015 & Agricultural         & 21 & 19\\\\\n",
       "\t 05/28/2015 & Agricultural         &  3 & 20\\\\\n",
       "\t 05/28/2015 & Semi-natural remnant & 16 &  0\\\\\n",
       "\t 05/28/2015 & Semi-natural remnant & 30 & 13\\\\\n",
       "\t 05/30/2017 & Natural              & 27 & 11\\\\\n",
       "\t 06/03/2015 & Agricultural         &  4 & 13\\\\\n",
       "\t 06/03/2015 & Semi-natural remnant &  9 &  7\\\\\n",
       "\t 06/04/2015 & Agricultural         & 38 & 10\\\\\n",
       "\t 06/04/2015 & Semi-natural remnant & 24 & 14\\\\\n",
       "\t 06/07/2017 & Agricultural         & 17 &  1\\\\\n",
       "\t ... & ... & ... & ...\\\\\n",
       "\t 08/21/2015 & Semi-natural remnant & 35 & 49\\\\\n",
       "\t 08/21/2015 & Semi-natural remnant & 44 & 17\\\\\n",
       "\t 08/23/2016 & Agricultural         & 26 &  4\\\\\n",
       "\t 09/18/2015 & Agricultural         & 42 & 13\\\\\n",
       "\t 09/23/2015 & Agricultural         & 34 & 13\\\\\n",
       "\t 09/23/2015 & Agricultural         & 46 & 17\\\\\n",
       "\t 09/23/2015 & Semi-natural remnant & 40 & 15\\\\\n",
       "\t 10/01/2015 & Agricultural         & 26 &  0\\\\\n",
       "\t 10/01/2015 & Agricultural         & 41 &  1\\\\\n",
       "\t 10/01/2015 & Semi-natural remnant & 44 & 20\\\\\n",
       "\\end{tabular}\n"
      ],
      "text/markdown": [
       "\n",
       "A grouped_df: 246 × 4\n",
       "\n",
       "| sample_date &lt;chr&gt; | site_type &lt;chr&gt; | site_id &lt;int&gt; | bees_per_site &lt;int&gt; |\n",
       "|---|---|---|---|\n",
       "| 05/27/2015 | Agricultural         | 21 | 19 |\n",
       "| 05/28/2015 | Agricultural         |  3 | 20 |\n",
       "| 05/28/2015 | Semi-natural remnant | 16 |  0 |\n",
       "| 05/28/2015 | Semi-natural remnant | 30 | 13 |\n",
       "| 05/30/2017 | Natural              | 27 | 11 |\n",
       "| 06/03/2015 | Agricultural         |  4 | 13 |\n",
       "| 06/03/2015 | Semi-natural remnant |  9 |  7 |\n",
       "| 06/04/2015 | Agricultural         | 38 | 10 |\n",
       "| 06/04/2015 | Semi-natural remnant | 24 | 14 |\n",
       "| 06/07/2017 | Agricultural         | 17 |  1 |\n",
       "| ... | ... | ... | ... |\n",
       "| 08/21/2015 | Semi-natural remnant | 35 | 49 |\n",
       "| 08/21/2015 | Semi-natural remnant | 44 | 17 |\n",
       "| 08/23/2016 | Agricultural         | 26 |  4 |\n",
       "| 09/18/2015 | Agricultural         | 42 | 13 |\n",
       "| 09/23/2015 | Agricultural         | 34 | 13 |\n",
       "| 09/23/2015 | Agricultural         | 46 | 17 |\n",
       "| 09/23/2015 | Semi-natural remnant | 40 | 15 |\n",
       "| 10/01/2015 | Agricultural         | 26 |  0 |\n",
       "| 10/01/2015 | Agricultural         | 41 |  1 |\n",
       "| 10/01/2015 | Semi-natural remnant | 44 | 20 |\n",
       "\n"
      ],
      "text/plain": [
       "    sample_date site_type            site_id bees_per_site\n",
       "1   05/27/2015  Agricultural         21      19           \n",
       "2   05/28/2015  Agricultural          3      20           \n",
       "3   05/28/2015  Semi-natural remnant 16       0           \n",
       "4   05/28/2015  Semi-natural remnant 30      13           \n",
       "5   05/30/2017  Natural              27      11           \n",
       "6   06/03/2015  Agricultural          4      13           \n",
       "7   06/03/2015  Semi-natural remnant  9       7           \n",
       "8   06/04/2015  Agricultural         38      10           \n",
       "9   06/04/2015  Semi-natural remnant 24      14           \n",
       "10  06/07/2017  Agricultural         17       1           \n",
       "... ...         ...                  ...     ...          \n",
       "237 08/21/2015  Semi-natural remnant 35      49           \n",
       "238 08/21/2015  Semi-natural remnant 44      17           \n",
       "239 08/23/2016  Agricultural         26       4           \n",
       "240 09/18/2015  Agricultural         42      13           \n",
       "241 09/23/2015  Agricultural         34      13           \n",
       "242 09/23/2015  Agricultural         46      17           \n",
       "243 09/23/2015  Semi-natural remnant 40      15           \n",
       "244 10/01/2015  Agricultural         26       0           \n",
       "245 10/01/2015  Agricultural         41       1           \n",
       "246 10/01/2015  Semi-natural remnant 44      20           "
      ]
     },
     "metadata": {},
     "output_type": "display_data"
    }
   ],
   "source": [
    "# download and simplify the bee dataset\n",
    "\n",
    "bee_df_date <- bees |>\n",
    "    group_by(sample_date, site_type, site_id) |>\n",
    "    summarise(bees_per_site = sum(no_of_bees)) |>\n",
    "    arrange(sample_date)\n",
    "\n",
    "\n",
    "bee_df_date"
   ]
  },
  {
   "cell_type": "code",
   "execution_count": 10,
   "id": "706c9427-95d1-4be7-9845-4c35f8212cc6",
   "metadata": {},
   "outputs": [
    {
     "data": {
      "image/png": "[encoded data removed]",
      "text/plain": [
       "plot without title"
      ]
     },
     "metadata": {
      "image/png": {
       "height": 300,
       "width": 540
      }
     },
     "output_type": "display_data"
    }
   ],
   "source": [
    "# Attribution: median_cl_boot was created by RPubs here:\n",
    "# https://rpubs.com/dgolicher/median_boot\n",
    "# This function is entirely copied from this source\n",
    "\n",
    "median_cl_boot <- function(x, conf = 0.95) {\n",
    "    lconf <- (1 - conf)/2\n",
    "    uconf <- 1 - lconf\n",
    "    require(boot)\n",
    "    bmedian <- function(x, ind) median(x[ind])\n",
    "    bt <- boot(x, bmedian, 1000)\n",
    "    bb <- boot.ci(bt, type = \"perc\")\n",
    "    data.frame(y = median(x), ymin = quantile(bt$t, lconf), ymax = quantile(bt$t, \n",
    "        uconf))\n",
    "}\n",
    "\n",
    "options(repr.plot.width=9, repr.plot.height=5)\n",
    "\n",
    "bee_df_plot <- ggplot(bee_df_date) +\n",
    "    aes(y = site_type,\n",
    "        x = bees_per_site) +\n",
    "    geom_point(shape = '|', color='grey', size=5) +\n",
    "    geom_pointrange(stat = 'summary', fun.data = median_cl_boot, size = 0.7) +\n",
    "    labs(x = \"Number of bees per site\",\n",
    "         y = \"Site types\",\n",
    "         fill = \"Site types\",\n",
    "         title = \"Distiributions of the Bees Collected on Different Sites\",\n",
    "         subtitle = \"Error bars are simulated 95% confidence intervals for a median\"\n",
    "         ) +\n",
    "    guides(fill = \"none\") +\n",
    "    theme_bw() +\n",
    "    theme(text =  element_text(size = 15))\n",
    "\n",
    "bee_df_plot"
   ]
  },
  {
   "cell_type": "code",
   "execution_count": 11,
   "id": "241028fd-5544-45d7-b2d2-2e927d8f5118",
   "metadata": {},
   "outputs": [
    {
     "data": {
      "image/png": "[encoded data removed]",
      "text/plain": [
       "plot without title"
      ]
     },
     "metadata": {
      "image/png": {
       "height": 300,
       "width": 540
      }
     },
     "output_type": "display_data"
    }
   ],
   "source": [
    "options(repr.plot.width=9, repr.plot.height=5)\n",
    "\n",
    "bee_df_plot <- ggplot(bee_df_date) +\n",
    "    aes(y = site_type,\n",
    "        x = bees_per_site,\n",
    "        fill = site_type) +\n",
    "    geom_violin() +\n",
    "    geom_point(stat = \"summary\", fun = median, size = 3) +\n",
    "    geom_point(stat = \"summary\", fun = mean, size = 3,\n",
    "               shape = 15, color = \"white\") +\n",
    "    labs(x = \"Number of bees per site\",\n",
    "         y = \"Site types\",\n",
    "         fill = \"Site types\",\n",
    "         title = \"Distiributions of the Bees Collected on Different Sites\",\n",
    "         subtitle = \"Black dot is median value, white square dot is mean\"\n",
    "         ) +\n",
    "    guides(fill = \"none\") +\n",
    "    theme_bw() +\n",
    "    theme(text =  element_text(size = 15))\n",
    "\n",
    "bee_df_plot"
   ]
  },
  {
   "cell_type": "code",
   "execution_count": 12,
   "id": "1e07f8ce-37a3-4b9d-8c0c-f8c696c23ec1",
   "metadata": {},
   "outputs": [
    {
     "data": {
      "image/png": "[encoded data removed]",
      "text/plain": [
       "plot without title"
      ]
     },
     "metadata": {
      "image/png": {
       "height": 360,
       "width": 600
      }
     },
     "output_type": "display_data"
    }
   ],
   "source": [
    "options(repr.plot.width=10, repr.plot.height=6)\n",
    "\n",
    "bee_df_plot <- ggplot(bee_df_date) +\n",
    "    aes(y = site_type,\n",
    "        x = bees_per_site,\n",
    "        color = site_type) +\n",
    "    geom_jitter() +\n",
    "    geom_point(stat = \"summary\", fun = median, size = 3, color = \"black\") +\n",
    "    geom_point(stat = \"summary\", fun = mean, size = 3,\n",
    "               shape = 15, color = \"black\") +\n",
    "    labs(x = \"Number of bees per site\",\n",
    "         y = \"Site types\",\n",
    "         fill = \"Site types\",\n",
    "         title = \"Distiributions of the Bees Collected on Different Sites\",\n",
    "         subtitle = \"Black dot is median value, black square dot is mean\"\n",
    "         ) +\n",
    "    guides(fill = \"none\") +\n",
    "    theme_bw() +\n",
    "    theme(text =  element_text(size = 15))\n",
    "\n",
    "bee_df_plot"
   ]
  },
  {
   "cell_type": "code",
   "execution_count": null,
   "id": "93a38280-dad8-4588-8a3c-a83a54830cd3",
   "metadata": {},
   "outputs": [],
   "source": []
  }
 ],
 "metadata": {
  "kernelspec": {
   "display_name": "R",
   "language": "R",
   "name": "ir"
  },
  "language_info": {
   "codemirror_mode": "r",
   "file_extension": ".r",
   "mimetype": "text/x-r-source",
   "name": "R",
   "pygments_lexer": "r",
   "version": "4.1.1"
  }
 },
 "nbformat": 4,
 "nbformat_minor": 5
}
