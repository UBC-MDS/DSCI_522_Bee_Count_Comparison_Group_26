{
 "cells": [
  {
   "cell_type": "code",
   "execution_count": 1,
   "id": "236ac40e-729e-4b2a-b84f-1beeb7159230",
   "metadata": {},
   "outputs": [
    {
     "name": "stderr",
     "output_type": "stream",
     "text": [
      "-- \u001b[1mAttaching packages\u001b[22m ------------------------------------------------------------------------------- tidyverse 1.3.1 --\n",
      "\n",
      "\u001b[32mv\u001b[39m \u001b[34mggplot2\u001b[39m 3.3.5     \u001b[32mv\u001b[39m \u001b[34mpurrr  \u001b[39m 0.3.4\n",
      "\u001b[32mv\u001b[39m \u001b[34mtibble \u001b[39m 3.1.5     \u001b[32mv\u001b[39m \u001b[34mdplyr  \u001b[39m 1.0.7\n",
      "\u001b[32mv\u001b[39m \u001b[34mtidyr  \u001b[39m 1.1.3     \u001b[32mv\u001b[39m \u001b[34mstringr\u001b[39m 1.4.0\n",
      "\u001b[32mv\u001b[39m \u001b[34mreadr  \u001b[39m 2.0.2     \u001b[32mv\u001b[39m \u001b[34mforcats\u001b[39m 0.5.1\n",
      "\n",
      "-- \u001b[1mConflicts\u001b[22m ---------------------------------------------------------------------------------- tidyverse_conflicts() --\n",
      "\u001b[31mx\u001b[39m \u001b[34mdplyr\u001b[39m::\u001b[32mfilter()\u001b[39m masks \u001b[34mstats\u001b[39m::filter()\n",
      "\u001b[31mx\u001b[39m \u001b[34mdplyr\u001b[39m::\u001b[32mlag()\u001b[39m    masks \u001b[34mstats\u001b[39m::lag()\n",
      "\n"
     ]
    }
   ],
   "source": [
    "library(tidyverse)\n",
    "library(ggplot2)\n",
    "options(repr.matrix.max.rows = 20)\n",
    "library(boot)"
   ]
  },
  {
   "cell_type": "code",
   "execution_count": 10,
   "id": "eb0bfc20-5b19-47e9-a6f6-15b6556e8d5b",
   "metadata": {},
   "outputs": [
    {
     "data": {
      "text/html": [
       "<table class=\"dataframe\">\n",
       "<caption>A tibble: 3444 × 6</caption>\n",
       "<thead>\n",
       "\t<tr><th scope=col>county</th><th scope=col>year</th><th scope=col>site_id</th><th scope=col>site_type</th><th scope=col>no_of_bees</th><th scope=col>sample_date</th></tr>\n",
       "\t<tr><th scope=col>&lt;chr&gt;</th><th scope=col>&lt;int&gt;</th><th scope=col>&lt;int&gt;</th><th scope=col>&lt;chr&gt;</th><th scope=col>&lt;int&gt;</th><th scope=col>&lt;chr&gt;</th></tr>\n",
       "</thead>\n",
       "<tbody>\n",
       "\t<tr><td>Middlesex Centre</td><td>2015</td><td>1</td><td>Agricultural</td><td>7</td><td>07/02/2015</td></tr>\n",
       "\t<tr><td>Middlesex Centre</td><td>2015</td><td>1</td><td>Agricultural</td><td>1</td><td>07/02/2015</td></tr>\n",
       "\t<tr><td>Middlesex Centre</td><td>2015</td><td>1</td><td>Agricultural</td><td>3</td><td>07/02/2015</td></tr>\n",
       "\t<tr><td>Middlesex Centre</td><td>2015</td><td>1</td><td>Agricultural</td><td>0</td><td>07/02/2015</td></tr>\n",
       "\t<tr><td>Middlesex Centre</td><td>2015</td><td>1</td><td>Agricultural</td><td>1</td><td>07/02/2015</td></tr>\n",
       "\t<tr><td>Middlesex Centre</td><td>2015</td><td>1</td><td>Agricultural</td><td>0</td><td>07/02/2015</td></tr>\n",
       "\t<tr><td>Middlesex Centre</td><td>2015</td><td>1</td><td>Agricultural</td><td>0</td><td>07/02/2015</td></tr>\n",
       "\t<tr><td>Middlesex Centre</td><td>2015</td><td>1</td><td>Agricultural</td><td>1</td><td>07/02/2015</td></tr>\n",
       "\t<tr><td>Middlesex Centre</td><td>2015</td><td>1</td><td>Agricultural</td><td>0</td><td>07/02/2015</td></tr>\n",
       "\t<tr><td>Middlesex Centre</td><td>2015</td><td>1</td><td>Agricultural</td><td>0</td><td>07/02/2015</td></tr>\n",
       "\t<tr><td>...</td><td>...</td><td>...</td><td>...</td><td>...</td><td>...</td></tr>\n",
       "\t<tr><td>Oxford</td><td>2017</td><td>67</td><td>Natural</td><td>0</td><td>06/07/2017</td></tr>\n",
       "\t<tr><td>Oxford</td><td>2017</td><td>67</td><td>Natural</td><td>0</td><td>06/07/2017</td></tr>\n",
       "\t<tr><td>Oxford</td><td>2017</td><td>67</td><td>Natural</td><td>0</td><td>06/07/2017</td></tr>\n",
       "\t<tr><td>Oxford</td><td>2017</td><td>67</td><td>Natural</td><td>0</td><td>06/07/2017</td></tr>\n",
       "\t<tr><td>Oxford</td><td>2017</td><td>67</td><td>Natural</td><td>0</td><td>06/07/2017</td></tr>\n",
       "\t<tr><td>Oxford</td><td>2017</td><td>67</td><td>Natural</td><td>0</td><td>06/07/2017</td></tr>\n",
       "\t<tr><td>Oxford</td><td>2017</td><td>67</td><td>Natural</td><td>0</td><td>06/07/2017</td></tr>\n",
       "\t<tr><td>Oxford</td><td>2017</td><td>67</td><td>Natural</td><td>0</td><td>06/07/2017</td></tr>\n",
       "\t<tr><td>Oxford</td><td>2017</td><td>67</td><td>Natural</td><td>0</td><td>06/07/2017</td></tr>\n",
       "\t<tr><td>Oxford</td><td>2017</td><td>67</td><td>Natural</td><td>0</td><td>06/07/2017</td></tr>\n",
       "</tbody>\n",
       "</table>\n"
      ],
      "text/latex": [
       "A tibble: 3444 × 6\n",
       "\\begin{tabular}{llllll}\n",
       " county & year & site\\_id & site\\_type & no\\_of\\_bees & sample\\_date\\\\\n",
       " <chr> & <int> & <int> & <chr> & <int> & <chr>\\\\\n",
       "\\hline\n",
       "\t Middlesex Centre & 2015 & 1 & Agricultural & 7 & 07/02/2015\\\\\n",
       "\t Middlesex Centre & 2015 & 1 & Agricultural & 1 & 07/02/2015\\\\\n",
       "\t Middlesex Centre & 2015 & 1 & Agricultural & 3 & 07/02/2015\\\\\n",
       "\t Middlesex Centre & 2015 & 1 & Agricultural & 0 & 07/02/2015\\\\\n",
       "\t Middlesex Centre & 2015 & 1 & Agricultural & 1 & 07/02/2015\\\\\n",
       "\t Middlesex Centre & 2015 & 1 & Agricultural & 0 & 07/02/2015\\\\\n",
       "\t Middlesex Centre & 2015 & 1 & Agricultural & 0 & 07/02/2015\\\\\n",
       "\t Middlesex Centre & 2015 & 1 & Agricultural & 1 & 07/02/2015\\\\\n",
       "\t Middlesex Centre & 2015 & 1 & Agricultural & 0 & 07/02/2015\\\\\n",
       "\t Middlesex Centre & 2015 & 1 & Agricultural & 0 & 07/02/2015\\\\\n",
       "\t ... & ... & ... & ... & ... & ...\\\\\n",
       "\t Oxford & 2017 & 67 & Natural & 0 & 06/07/2017\\\\\n",
       "\t Oxford & 2017 & 67 & Natural & 0 & 06/07/2017\\\\\n",
       "\t Oxford & 2017 & 67 & Natural & 0 & 06/07/2017\\\\\n",
       "\t Oxford & 2017 & 67 & Natural & 0 & 06/07/2017\\\\\n",
       "\t Oxford & 2017 & 67 & Natural & 0 & 06/07/2017\\\\\n",
       "\t Oxford & 2017 & 67 & Natural & 0 & 06/07/2017\\\\\n",
       "\t Oxford & 2017 & 67 & Natural & 0 & 06/07/2017\\\\\n",
       "\t Oxford & 2017 & 67 & Natural & 0 & 06/07/2017\\\\\n",
       "\t Oxford & 2017 & 67 & Natural & 0 & 06/07/2017\\\\\n",
       "\t Oxford & 2017 & 67 & Natural & 0 & 06/07/2017\\\\\n",
       "\\end{tabular}\n"
      ],
      "text/markdown": [
       "\n",
       "A tibble: 3444 × 6\n",
       "\n",
       "| county &lt;chr&gt; | year &lt;int&gt; | site_id &lt;int&gt; | site_type &lt;chr&gt; | no_of_bees &lt;int&gt; | sample_date &lt;chr&gt; |\n",
       "|---|---|---|---|---|---|\n",
       "| Middlesex Centre | 2015 | 1 | Agricultural | 7 | 07/02/2015 |\n",
       "| Middlesex Centre | 2015 | 1 | Agricultural | 1 | 07/02/2015 |\n",
       "| Middlesex Centre | 2015 | 1 | Agricultural | 3 | 07/02/2015 |\n",
       "| Middlesex Centre | 2015 | 1 | Agricultural | 0 | 07/02/2015 |\n",
       "| Middlesex Centre | 2015 | 1 | Agricultural | 1 | 07/02/2015 |\n",
       "| Middlesex Centre | 2015 | 1 | Agricultural | 0 | 07/02/2015 |\n",
       "| Middlesex Centre | 2015 | 1 | Agricultural | 0 | 07/02/2015 |\n",
       "| Middlesex Centre | 2015 | 1 | Agricultural | 1 | 07/02/2015 |\n",
       "| Middlesex Centre | 2015 | 1 | Agricultural | 0 | 07/02/2015 |\n",
       "| Middlesex Centre | 2015 | 1 | Agricultural | 0 | 07/02/2015 |\n",
       "| ... | ... | ... | ... | ... | ... |\n",
       "| Oxford | 2017 | 67 | Natural | 0 | 06/07/2017 |\n",
       "| Oxford | 2017 | 67 | Natural | 0 | 06/07/2017 |\n",
       "| Oxford | 2017 | 67 | Natural | 0 | 06/07/2017 |\n",
       "| Oxford | 2017 | 67 | Natural | 0 | 06/07/2017 |\n",
       "| Oxford | 2017 | 67 | Natural | 0 | 06/07/2017 |\n",
       "| Oxford | 2017 | 67 | Natural | 0 | 06/07/2017 |\n",
       "| Oxford | 2017 | 67 | Natural | 0 | 06/07/2017 |\n",
       "| Oxford | 2017 | 67 | Natural | 0 | 06/07/2017 |\n",
       "| Oxford | 2017 | 67 | Natural | 0 | 06/07/2017 |\n",
       "| Oxford | 2017 | 67 | Natural | 0 | 06/07/2017 |\n",
       "\n"
      ],
      "text/plain": [
       "     county           year site_id site_type    no_of_bees sample_date\n",
       "1    Middlesex Centre 2015 1       Agricultural 7          07/02/2015 \n",
       "2    Middlesex Centre 2015 1       Agricultural 1          07/02/2015 \n",
       "3    Middlesex Centre 2015 1       Agricultural 3          07/02/2015 \n",
       "4    Middlesex Centre 2015 1       Agricultural 0          07/02/2015 \n",
       "5    Middlesex Centre 2015 1       Agricultural 1          07/02/2015 \n",
       "6    Middlesex Centre 2015 1       Agricultural 0          07/02/2015 \n",
       "7    Middlesex Centre 2015 1       Agricultural 0          07/02/2015 \n",
       "8    Middlesex Centre 2015 1       Agricultural 1          07/02/2015 \n",
       "9    Middlesex Centre 2015 1       Agricultural 0          07/02/2015 \n",
       "10   Middlesex Centre 2015 1       Agricultural 0          07/02/2015 \n",
       "...  ...              ...  ...     ...          ...        ...        \n",
       "3435 Oxford           2017 67      Natural      0          06/07/2017 \n",
       "3436 Oxford           2017 67      Natural      0          06/07/2017 \n",
       "3437 Oxford           2017 67      Natural      0          06/07/2017 \n",
       "3438 Oxford           2017 67      Natural      0          06/07/2017 \n",
       "3439 Oxford           2017 67      Natural      0          06/07/2017 \n",
       "3440 Oxford           2017 67      Natural      0          06/07/2017 \n",
       "3441 Oxford           2017 67      Natural      0          06/07/2017 \n",
       "3442 Oxford           2017 67      Natural      0          06/07/2017 \n",
       "3443 Oxford           2017 67      Natural      0          06/07/2017 \n",
       "3444 Oxford           2017 67      Natural      0          06/07/2017 "
      ]
     },
     "metadata": {},
     "output_type": "display_data"
    }
   ],
   "source": [
    "# download and simplify the bee dataset\n",
    "\n",
    "bee_df <- read.csv(\"https://files.ontario.ca/moe_mapping/downloads/4Other/PHAP/Bumble_Bee_Public_Data.csv\") |>\n",
    "    select(1:7, contains(\"total\")) |>\n",
    "    mutate(site_type = case_when(`Site.Type` == \"Agri\" ~ \"Agricultural\",\n",
    "                                 `Site.Type` == \"Agriculture\" ~ \"Agricultural\",\n",
    "                                 TRUE ~ `Site.Type`)) |>\n",
    "    rename(\n",
    "        county = `ï..County`,\n",
    "        site_id = `MOECC.Site.Number`,\n",
    "        year = Year,\n",
    "        sample_date = `Sample.date`) |>\n",
    "    filter(site_type != \"\") |>\n",
    "    pivot_longer(`bimaculatus.total`:`flavidus.total`,\n",
    "                 values_to = \"no_of_bees\", names_to = \"species\") |>\n",
    "    select(county, year, site_id, site_type, no_of_bees, sample_date)\n",
    "\n",
    "bee_df\n",
    "\n",
    "write_csv(bee_df, \"test.csv\")"
   ]
  },
  {
   "cell_type": "code",
   "execution_count": 3,
   "id": "bf156116-6aaa-4113-a391-92f0bd227334",
   "metadata": {},
   "outputs": [
    {
     "data": {
      "text/plain": [
       "    county               year         site_id       site_type        \n",
       " Length:3444        Min.   :2015   Min.   : 1.00   Length:3444       \n",
       " Class :character   1st Qu.:2015   1st Qu.:15.00   Class :character  \n",
       " Mode  :character   Median :2016   Median :26.00   Mode  :character  \n",
       "                    Mean   :2016   Mean   :28.21                     \n",
       "                    3rd Qu.:2017   3rd Qu.:41.00                     \n",
       "                    Max.   :2017   Max.   :67.00                     \n",
       "   no_of_bees      sample_date       \n",
       " Min.   :  0.000   Length:3444       \n",
       " 1st Qu.:  0.000   Class :character  \n",
       " Median :  0.000   Mode  :character  \n",
       " Mean   :  1.259                     \n",
       " 3rd Qu.:  0.000                     \n",
       " Max.   :113.000                     "
      ]
     },
     "metadata": {},
     "output_type": "display_data"
    }
   ],
   "source": [
    "summary(bee_df)"
   ]
  },
  {
   "cell_type": "code",
   "execution_count": 4,
   "id": "ab5695ec-0a42-44ba-a16b-dc28c45d86a4",
   "metadata": {},
   "outputs": [
    {
     "name": "stdout",
     "output_type": "stream",
     "text": [
      "Rows: 3,444\n",
      "Columns: 6\n",
      "$ county      \u001b[3m\u001b[90m<chr>\u001b[39m\u001b[23m \"Middlesex Centre\", \"Middlesex Centre\", \"Middlesex Centre\"~\n",
      "$ year        \u001b[3m\u001b[90m<int>\u001b[39m\u001b[23m 2015, 2015, 2015, 2015, 2015, 2015, 2015, 2015, 2015, 2015~\n",
      "$ site_id     \u001b[3m\u001b[90m<int>\u001b[39m\u001b[23m 1, 1, 1, 1, 1, 1, 1, 1, 1, 1, 1, 1, 1, 1, 2, 2, 2, 2, 2, 2~\n",
      "$ site_type   \u001b[3m\u001b[90m<chr>\u001b[39m\u001b[23m \"Agricultural\", \"Agricultural\", \"Agricultural\", \"Agricultu~\n",
      "$ no_of_bees  \u001b[3m\u001b[90m<int>\u001b[39m\u001b[23m 7, 1, 3, 0, 1, 0, 0, 1, 0, 0, 0, 0, 0, 0, 3, 14, 7, 0, 0, ~\n",
      "$ sample_date \u001b[3m\u001b[90m<chr>\u001b[39m\u001b[23m \"07/02/2015\", \"07/02/2015\", \"07/02/2015\", \"07/02/2015\", \"0~\n"
     ]
    }
   ],
   "source": [
    "glimpse(bee_df)"
   ]
  },
  {
   "cell_type": "code",
   "execution_count": 5,
   "id": "023bb41a-f0af-49a4-81b1-075eaee9aa25",
   "metadata": {},
   "outputs": [
    {
     "data": {
      "text/plain": [
       "\n",
       "        Agricultural              Natural Semi-natural remnant \n",
       "                1806                  658                  980 "
      ]
     },
     "metadata": {},
     "output_type": "display_data"
    }
   ],
   "source": [
    "table(bee_df$site_type)"
   ]
  },
  {
   "cell_type": "code",
   "execution_count": 9,
   "id": "a440e826-df13-4964-ae92-92fb09c48d17",
   "metadata": {},
   "outputs": [
    {
     "name": "stderr",
     "output_type": "stream",
     "text": [
      "Warning message:\n",
      "\"Removed 3 rows containing non-finite values (stat_bin).\"\n",
      "Warning message:\n",
      "\"Removed 8 rows containing missing values (geom_bar).\"\n"
     ]
    },
    {
     "data": {
      "image/png": "[encoded data removed]",
      "text/plain": [
       "plot without title"
      ]
     },
     "metadata": {
      "image/png": {
       "height": 480,
       "width": 480
      }
     },
     "output_type": "display_data"
    }
   ],
   "source": [
    "# Distiributions of the bees collected on different sites (Histogram)\n",
    "\n",
    "options(repr.plot.width=8, repr.plot.height=8)\n",
    "\n",
    "bee_df_hist <- ggplot(bee_df) +\n",
    "    aes(x = no_of_bees,\n",
    "        fill = site_type) +\n",
    "    geom_histogram(bins = 40, color = 'white') +\n",
    "    facet_wrap(~site_type, ncol = 1) +\n",
    "    labs(x = \"Number of bees per site\",\n",
    "         y = \"Count\",\n",
    "         fill = \"Site types\",\n",
    "         title = \"Distiributions of the Bees Collected on Different Sites\",\n",
    "         subtitle = \"Scales were limited to 60 for representation purposes\"\n",
    "         ) +\n",
    "    xlim(0, 60) +\n",
    "    ylim(0, 60) +\n",
    "    theme_bw() +\n",
    "    theme(text =  element_text(size = 13))\n",
    "    \n",
    "bee_df_hist\n",
    "#ggsave(\"bee_df_hist.png\", width = 8, height = 8)"
   ]
  },
  {
   "cell_type": "code",
   "execution_count": 7,
   "id": "66370bca-bbe1-4d4b-bc6d-1e508fac7593",
   "metadata": {},
   "outputs": [
    {
     "name": "stderr",
     "output_type": "stream",
     "text": [
      "Warning message:\n",
      "\"Transformation introduced infinite values in continuous x-axis\"\n",
      "Warning message:\n",
      "\"Transformation introduced infinite values in continuous x-axis\"\n",
      "Warning message:\n",
      "\"Transformation introduced infinite values in continuous x-axis\"\n",
      "Warning message:\n",
      "\"Removed 2716 rows containing non-finite values (stat_ydensity).\"\n",
      "Warning message:\n",
      "\"Removed 2716 rows containing non-finite values (stat_summary).\"\n",
      "Warning message:\n",
      "\"Removed 2716 rows containing non-finite values (stat_summary).\"\n"
     ]
    },
    {
     "data": {
      "image/png": "[encoded data removed]",
      "text/plain": [
       "plot without title"
      ]
     },
     "metadata": {
      "image/png": {
       "height": 240,
       "width": 600
      }
     },
     "output_type": "display_data"
    }
   ],
   "source": [
    "# Distiributions of the bees collected on different sites (Violin Plot with Mean)\n",
    "\n",
    "options(repr.plot.width=10, repr.plot.height=4)\n",
    "\n",
    "bee_df_violin <- ggplot(bee_df) +\n",
    "    aes(y = site_type,\n",
    "        x = no_of_bees,\n",
    "        fill = site_type) +\n",
    "    geom_violin() +\n",
    "    geom_point(stat = \"summary\", fun = median, size = 3) +\n",
    "    geom_point(stat = \"summary\", fun = mean, size = 3,\n",
    "               shape = 15, color = \"white\") +\n",
    "    scale_x_continuous(trans='log10') +\n",
    "    labs(x = \"log(Number of bees per site)\",\n",
    "         y = \"Site types\",\n",
    "         fill = \"Site types\",\n",
    "         title = \"Distiributions of the Bees Collected on Different Sites\",\n",
    "         subtitle = \"Black dot is median value, white square dot is mean\"\n",
    "         ) +\n",
    "    guides(fill = \"none\") +\n",
    "    theme_bw() +\n",
    "    theme(text =  element_text(size = 15))\n",
    "\n",
    "bee_df_violin\n",
    "#ggsave(\"bee_df_violin.png\", width = 10, height = 4)"
   ]
  },
  {
   "cell_type": "code",
   "execution_count": 8,
   "id": "de71e016-dfce-484a-8846-319ff01591e4",
   "metadata": {},
   "outputs": [
    {
     "name": "stderr",
     "output_type": "stream",
     "text": [
      "Warning message:\n",
      "\"Removed 1360 rows containing missing values (geom_point).\"\n"
     ]
    },
    {
     "data": {
      "image/png": "[encoded data removed]",
      "text/plain": [
       "plot without title"
      ]
     },
     "metadata": {
      "image/png": {
       "height": 240,
       "width": 600
      }
     },
     "output_type": "display_data"
    }
   ],
   "source": [
    "options(repr.plot.width=10, repr.plot.height=4)\n",
    "\n",
    "bee_df_jitter <- ggplot(bee_df) +\n",
    "    aes(y = site_type,\n",
    "        x = no_of_bees,\n",
    "        color = site_type) +\n",
    "    geom_jitter() +\n",
    "    labs(x = \"Number of bees per site\",\n",
    "         y = \"\",\n",
    "         color = \"Site types\",\n",
    "         title = \"Distiributions of the Bees Collected on Different Sites\",\n",
    "         subtitle = \"Scales were limited to 60 for representation purposes\"\n",
    "         ) +\n",
    "    scale_x_continuous(limits = c(0, 60)) +\n",
    "    guides(fill = \"none\") +\n",
    "    theme_bw() +\n",
    "    theme(text =  element_text(size = 15))\n",
    "\n",
    "bee_df_jitter\n",
    "#ggsave(\"bee_df_jitter.png\", width = 10, height = 4)"
   ]
  },
  {
   "cell_type": "markdown",
   "id": "0f176f88-161e-4f6c-881f-8ca5eb5ea73c",
   "metadata": {},
   "source": []
  },
  {
   "cell_type": "code",
   "execution_count": null,
   "id": "a419c44d-8341-45d5-aac0-6083ad74c2c3",
   "metadata": {},
   "outputs": [],
   "source": []
  }
 ],
 "metadata": {
  "kernelspec": {
   "display_name": "R",
   "language": "R",
   "name": "ir"
  },
  "language_info": {
   "codemirror_mode": "r",
   "file_extension": ".r",
   "mimetype": "text/x-r-source",
   "name": "R",
   "pygments_lexer": "r",
   "version": "4.1.1"
  }
 },
 "nbformat": 4,
 "nbformat_minor": 5
}
