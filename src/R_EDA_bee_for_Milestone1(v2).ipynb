{
 "cells": [
  {
   "cell_type": "code",
   "execution_count": 1,
   "id": "236ac40e-729e-4b2a-b84f-1beeb7159230",
   "metadata": {},
   "outputs": [
    {
     "name": "stderr",
     "output_type": "stream",
     "text": [
      "-- \u001b[1mAttaching packages\u001b[22m ------------------------------------------------------------------------------- tidyverse 1.3.1 --\n",
      "\n",
      "\u001b[32mv\u001b[39m \u001b[34mggplot2\u001b[39m 3.3.5     \u001b[32mv\u001b[39m \u001b[34mpurrr  \u001b[39m 0.3.4\n",
      "\u001b[32mv\u001b[39m \u001b[34mtibble \u001b[39m 3.1.5     \u001b[32mv\u001b[39m \u001b[34mdplyr  \u001b[39m 1.0.7\n",
      "\u001b[32mv\u001b[39m \u001b[34mtidyr  \u001b[39m 1.1.3     \u001b[32mv\u001b[39m \u001b[34mstringr\u001b[39m 1.4.0\n",
      "\u001b[32mv\u001b[39m \u001b[34mreadr  \u001b[39m 2.0.2     \u001b[32mv\u001b[39m \u001b[34mforcats\u001b[39m 0.5.1\n",
      "\n",
      "-- \u001b[1mConflicts\u001b[22m ---------------------------------------------------------------------------------- tidyverse_conflicts() --\n",
      "\u001b[31mx\u001b[39m \u001b[34mdplyr\u001b[39m::\u001b[32mfilter()\u001b[39m masks \u001b[34mstats\u001b[39m::filter()\n",
      "\u001b[31mx\u001b[39m \u001b[34mdplyr\u001b[39m::\u001b[32mlag()\u001b[39m    masks \u001b[34mstats\u001b[39m::lag()\n",
      "\n"
     ]
    }
   ],
   "source": [
    "library(tidyverse)\n",
    "library(ggplot2)\n",
    "options(repr.matrix.max.rows = 20)"
   ]
  },
  {
   "cell_type": "code",
   "execution_count": 2,
   "id": "eb0bfc20-5b19-47e9-a6f6-15b6556e8d5b",
   "metadata": {},
   "outputs": [
    {
     "name": "stderr",
     "output_type": "stream",
     "text": [
      "`summarise()` has grouped output by 'county', 'site_type'. You can override using the `.groups` argument.\n",
      "\n"
     ]
    },
    {
     "data": {
      "text/html": [
       "<table class=\"dataframe\">\n",
       "<caption>A grouped_df: 88 × 4</caption>\n",
       "<thead>\n",
       "\t<tr><th scope=col>county</th><th scope=col>site_type</th><th scope=col>year</th><th scope=col>no_of_bees</th></tr>\n",
       "\t<tr><th scope=col>&lt;chr&gt;</th><th scope=col>&lt;chr&gt;</th><th scope=col>&lt;int&gt;</th><th scope=col>&lt;int&gt;</th></tr>\n",
       "</thead>\n",
       "<tbody>\n",
       "\t<tr><td>Ashfield-Colborne-Wawanosh</td><td>Natural     </td><td>2015</td><td>45</td></tr>\n",
       "\t<tr><td>Bruce                     </td><td>Agricultural</td><td>2016</td><td> 9</td></tr>\n",
       "\t<tr><td>Bruce                     </td><td>Agricultural</td><td>2017</td><td> 6</td></tr>\n",
       "\t<tr><td>Bruce                     </td><td>Natural     </td><td>2016</td><td>12</td></tr>\n",
       "\t<tr><td>Bruce                     </td><td>Natural     </td><td>2017</td><td>20</td></tr>\n",
       "\t<tr><td>Central Elgin             </td><td>Agricultural</td><td>2015</td><td>72</td></tr>\n",
       "\t<tr><td>Central Wellington        </td><td>Agricultural</td><td>2015</td><td>13</td></tr>\n",
       "\t<tr><td>Chatham-Kent              </td><td>Agricultural</td><td>2015</td><td>48</td></tr>\n",
       "\t<tr><td>Chatham-Kent              </td><td>Agricultural</td><td>2016</td><td>43</td></tr>\n",
       "\t<tr><td>Chatham-Kent              </td><td>Agricultural</td><td>2017</td><td>14</td></tr>\n",
       "\t<tr><td>...</td><td>...</td><td>...</td><td>...</td></tr>\n",
       "\t<tr><td>Wellington      </td><td>Agricultural</td><td>2017</td><td>28</td></tr>\n",
       "\t<tr><td>Wellington      </td><td>Natural     </td><td>2017</td><td>12</td></tr>\n",
       "\t<tr><td>Wellington North</td><td>Agricultural</td><td>2015</td><td> 6</td></tr>\n",
       "\t<tr><td>West Lincoln    </td><td>Agricultural</td><td>2015</td><td>31</td></tr>\n",
       "\t<tr><td>West Perth      </td><td>Agricultural</td><td>2015</td><td>68</td></tr>\n",
       "\t<tr><td>Windsor         </td><td>Natural     </td><td>2015</td><td>96</td></tr>\n",
       "\t<tr><td>Windsor         </td><td>Natural     </td><td>2017</td><td> 6</td></tr>\n",
       "\t<tr><td>Woodstock       </td><td>Natural     </td><td>2015</td><td> 3</td></tr>\n",
       "\t<tr><td>Woolwich        </td><td>Natural     </td><td>2015</td><td>37</td></tr>\n",
       "\t<tr><td>Zorra           </td><td>Natural     </td><td>2015</td><td>57</td></tr>\n",
       "</tbody>\n",
       "</table>\n"
      ],
      "text/latex": [
       "A grouped\\_df: 88 × 4\n",
       "\\begin{tabular}{llll}\n",
       " county & site\\_type & year & no\\_of\\_bees\\\\\n",
       " <chr> & <chr> & <int> & <int>\\\\\n",
       "\\hline\n",
       "\t Ashfield-Colborne-Wawanosh & Natural      & 2015 & 45\\\\\n",
       "\t Bruce                      & Agricultural & 2016 &  9\\\\\n",
       "\t Bruce                      & Agricultural & 2017 &  6\\\\\n",
       "\t Bruce                      & Natural      & 2016 & 12\\\\\n",
       "\t Bruce                      & Natural      & 2017 & 20\\\\\n",
       "\t Central Elgin              & Agricultural & 2015 & 72\\\\\n",
       "\t Central Wellington         & Agricultural & 2015 & 13\\\\\n",
       "\t Chatham-Kent               & Agricultural & 2015 & 48\\\\\n",
       "\t Chatham-Kent               & Agricultural & 2016 & 43\\\\\n",
       "\t Chatham-Kent               & Agricultural & 2017 & 14\\\\\n",
       "\t ... & ... & ... & ...\\\\\n",
       "\t Wellington       & Agricultural & 2017 & 28\\\\\n",
       "\t Wellington       & Natural      & 2017 & 12\\\\\n",
       "\t Wellington North & Agricultural & 2015 &  6\\\\\n",
       "\t West Lincoln     & Agricultural & 2015 & 31\\\\\n",
       "\t West Perth       & Agricultural & 2015 & 68\\\\\n",
       "\t Windsor          & Natural      & 2015 & 96\\\\\n",
       "\t Windsor          & Natural      & 2017 &  6\\\\\n",
       "\t Woodstock        & Natural      & 2015 &  3\\\\\n",
       "\t Woolwich         & Natural      & 2015 & 37\\\\\n",
       "\t Zorra            & Natural      & 2015 & 57\\\\\n",
       "\\end{tabular}\n"
      ],
      "text/markdown": [
       "\n",
       "A grouped_df: 88 × 4\n",
       "\n",
       "| county &lt;chr&gt; | site_type &lt;chr&gt; | year &lt;int&gt; | no_of_bees &lt;int&gt; |\n",
       "|---|---|---|---|\n",
       "| Ashfield-Colborne-Wawanosh | Natural      | 2015 | 45 |\n",
       "| Bruce                      | Agricultural | 2016 |  9 |\n",
       "| Bruce                      | Agricultural | 2017 |  6 |\n",
       "| Bruce                      | Natural      | 2016 | 12 |\n",
       "| Bruce                      | Natural      | 2017 | 20 |\n",
       "| Central Elgin              | Agricultural | 2015 | 72 |\n",
       "| Central Wellington         | Agricultural | 2015 | 13 |\n",
       "| Chatham-Kent               | Agricultural | 2015 | 48 |\n",
       "| Chatham-Kent               | Agricultural | 2016 | 43 |\n",
       "| Chatham-Kent               | Agricultural | 2017 | 14 |\n",
       "| ... | ... | ... | ... |\n",
       "| Wellington       | Agricultural | 2017 | 28 |\n",
       "| Wellington       | Natural      | 2017 | 12 |\n",
       "| Wellington North | Agricultural | 2015 |  6 |\n",
       "| West Lincoln     | Agricultural | 2015 | 31 |\n",
       "| West Perth       | Agricultural | 2015 | 68 |\n",
       "| Windsor          | Natural      | 2015 | 96 |\n",
       "| Windsor          | Natural      | 2017 |  6 |\n",
       "| Woodstock        | Natural      | 2015 |  3 |\n",
       "| Woolwich         | Natural      | 2015 | 37 |\n",
       "| Zorra            | Natural      | 2015 | 57 |\n",
       "\n"
      ],
      "text/plain": [
       "    county                     site_type    year no_of_bees\n",
       "1   Ashfield-Colborne-Wawanosh Natural      2015 45        \n",
       "2   Bruce                      Agricultural 2016  9        \n",
       "3   Bruce                      Agricultural 2017  6        \n",
       "4   Bruce                      Natural      2016 12        \n",
       "5   Bruce                      Natural      2017 20        \n",
       "6   Central Elgin              Agricultural 2015 72        \n",
       "7   Central Wellington         Agricultural 2015 13        \n",
       "8   Chatham-Kent               Agricultural 2015 48        \n",
       "9   Chatham-Kent               Agricultural 2016 43        \n",
       "10  Chatham-Kent               Agricultural 2017 14        \n",
       "... ...                        ...          ...  ...       \n",
       "79  Wellington                 Agricultural 2017 28        \n",
       "80  Wellington                 Natural      2017 12        \n",
       "81  Wellington North           Agricultural 2015  6        \n",
       "82  West Lincoln               Agricultural 2015 31        \n",
       "83  West Perth                 Agricultural 2015 68        \n",
       "84  Windsor                    Natural      2015 96        \n",
       "85  Windsor                    Natural      2017  6        \n",
       "86  Woodstock                  Natural      2015  3        \n",
       "87  Woolwich                   Natural      2015 37        \n",
       "88  Zorra                      Natural      2015 57        "
      ]
     },
     "metadata": {},
     "output_type": "display_data"
    }
   ],
   "source": [
    "# download and simplify the bee dataset\n",
    "\n",
    "bee_df <- read.csv(\"https://files.ontario.ca/moe_mapping/downloads/4Other/PHAP/Bumble_Bee_Public_Data.csv\") |>\n",
    "    select(1:7, contains(\"total\")) |>\n",
    "    mutate(site_type = case_when(Site.Type == \"Agri\" ~ \"Agricultural\",\n",
    "                                 Site.Type == \"Agriculture\" ~ \"Agricultural\",\n",
    "                                 Site.Type == \"Semi-natural remnant\" ~ \"Natural\",\n",
    "                                 TRUE ~ Site.Type)) |>\n",
    "    filter(site_type != \"\") |>\n",
    "    pivot_longer(`bimaculatus.total`:`flavidus.total`, values_to = \"no_of_bees\") |> \n",
    "    select(ï..County, site_type, Year, no_of_bees) |> \n",
    "    mutate(county = ï..County, year = Year) |> \n",
    "    group_by(county, site_type, year) |> \n",
    "    summarise(no_of_bees = sum(no_of_bees)) |> \n",
    "    arrange(county)\n",
    "\n",
    "bee_df"
   ]
  },
  {
   "cell_type": "code",
   "execution_count": 3,
   "id": "bf156116-6aaa-4113-a391-92f0bd227334",
   "metadata": {},
   "outputs": [
    {
     "data": {
      "text/plain": [
       "    county           site_type              year        no_of_bees    \n",
       " Length:88          Length:88          Min.   :2015   Min.   :  1.00  \n",
       " Class :character   Class :character   1st Qu.:2015   1st Qu.: 17.00  \n",
       " Mode  :character   Mode  :character   Median :2016   Median : 36.00  \n",
       "                                       Mean   :2016   Mean   : 49.27  \n",
       "                                       3rd Qu.:2017   3rd Qu.: 68.00  \n",
       "                                       Max.   :2017   Max.   :195.00  "
      ]
     },
     "metadata": {},
     "output_type": "display_data"
    }
   ],
   "source": [
    "summary(bee_df)"
   ]
  },
  {
   "cell_type": "code",
   "execution_count": 4,
   "id": "ab5695ec-0a42-44ba-a16b-dc28c45d86a4",
   "metadata": {},
   "outputs": [
    {
     "name": "stdout",
     "output_type": "stream",
     "text": [
      "Rows: 88\n",
      "Columns: 4\n",
      "Groups: county, site_type [60]\n",
      "$ county     \u001b[3m\u001b[90m<chr>\u001b[39m\u001b[23m \"Ashfield-Colborne-Wawanosh\", \"Bruce\", \"Bruce\", \"Bruce\", \"B~\n",
      "$ site_type  \u001b[3m\u001b[90m<chr>\u001b[39m\u001b[23m \"Natural\", \"Agricultural\", \"Agricultural\", \"Natural\", \"Natu~\n",
      "$ year       \u001b[3m\u001b[90m<int>\u001b[39m\u001b[23m 2015, 2016, 2017, 2016, 2017, 2015, 2015, 2015, 2016, 2017,~\n",
      "$ no_of_bees \u001b[3m\u001b[90m<int>\u001b[39m\u001b[23m 45, 9, 6, 12, 20, 72, 13, 48, 43, 14, 49, 48, 42, 6, 37, 71~\n"
     ]
    }
   ],
   "source": [
    "glimpse(bee_df)"
   ]
  },
  {
   "cell_type": "code",
   "execution_count": 5,
   "id": "023bb41a-f0af-49a4-81b1-075eaee9aa25",
   "metadata": {},
   "outputs": [
    {
     "data": {
      "text/plain": [
       "\n",
       "Agricultural      Natural \n",
       "          44           44 "
      ]
     },
     "metadata": {},
     "output_type": "display_data"
    }
   ],
   "source": [
    "table(bee_df$site_type)"
   ]
  },
  {
   "cell_type": "code",
   "execution_count": 8,
   "id": "a440e826-df13-4964-ae92-92fb09c48d17",
   "metadata": {},
   "outputs": [
    {
     "name": "stderr",
     "output_type": "stream",
     "text": [
      "Saving 6.67 x 6.67 in image\n",
      "\n"
     ]
    }
   ],
   "source": [
    "# Distiributions of the bees collected on different sites (Histogram)\n",
    "\n",
    "bee_df_hist <- ggplot(bee_df) +\n",
    "    aes(x = no_of_bees,\n",
    "        fill = site_type) +\n",
    "    geom_histogram(bins = 40, color = 'white') +\n",
    "    facet_wrap(~site_type, ncol = 1) +\n",
    "    labs(x = \"Number of bees\",\n",
    "         y = \"Count\",\n",
    "         fill = \"Site types\",\n",
    "         title = \"Distiributions of the Bees Collected on Different Sites\"\n",
    "         ) +\n",
    "    theme_bw() +\n",
    "    theme(text =  element_text(size = 15))\n",
    "    \n",
    "ggsave(\"bee_df_hist.png\")"
   ]
  },
  {
   "cell_type": "code",
   "execution_count": null,
   "id": "66370bca-bbe1-4d4b-bc6d-1e508fac7593",
   "metadata": {},
   "outputs": [],
   "source": [
    "# Distiributions of the bees collected on different sites (Violin Plot with Mean)\n",
    "\n",
    "options(repr.plot.width=9, repr.plot.height=5)\n",
    "\n",
    "bee_df_plot <- ggplot(bee_df) +\n",
    "    aes(y = site_type, \n",
    "        x = no_of_bees, \n",
    "        fill = site_type) +\n",
    "    geom_violin() +\n",
    "    geom_point(stat = 'summary', fun = mean, size = 3) +\n",
    "    labs(x = \"Number of bees\",\n",
    "         y = \"Site types\",\n",
    "         fill = \"Site types\",\n",
    "         title = \"Distiributions of the Bees Collected on Different Sites (with Mean)\"\n",
    "         ) +\n",
    "    theme_bw() +\n",
    "    theme(text =  element_text(size = 15))\n",
    "\n",
    "bee_df_plot"
   ]
  },
  {
   "cell_type": "code",
   "execution_count": null,
   "id": "50124937-773a-448b-aceb-bbcb0244823e",
   "metadata": {},
   "outputs": [],
   "source": [
    "# Distiributions of the bees collected on different sites (Violin Plot with Median)\n",
    "\n",
    "options(repr.plot.width=9, repr.plot.height=5)\n",
    "\n",
    "bee_df_plot <- ggplot(bee_df) +\n",
    "    aes(y = site_type, \n",
    "        x = no_of_bees, \n",
    "        fill = site_type) +\n",
    "    geom_violin() +\n",
    "    geom_point(stat = 'summary', fun = median, size = 3) +\n",
    "    labs(x = \"Number of bees\",\n",
    "         y = \"Site types\",\n",
    "         fill = \"Site types\",\n",
    "         title = \"Distiributions of the Bees Collected on Different Sites (With Median)\"\n",
    "         ) +\n",
    "    theme_bw() +\n",
    "    theme(text =  element_text(size = 15))\n",
    "\n",
    "bee_df_plot"
   ]
  },
  {
   "cell_type": "code",
   "execution_count": null,
   "id": "75fab881-bde0-472a-b4b6-6aad6649df90",
   "metadata": {},
   "outputs": [],
   "source": []
  }
 ],
 "metadata": {
  "kernelspec": {
   "display_name": "R",
   "language": "R",
   "name": "ir"
  },
  "language_info": {
   "codemirror_mode": "r",
   "file_extension": ".r",
   "mimetype": "text/x-r-source",
   "name": "R",
   "pygments_lexer": "r",
   "version": "4.1.1"
  }
 },
 "nbformat": 4,
 "nbformat_minor": 5
}
