{
 "cells": [
  {
   "cell_type": "code",
   "execution_count": 7,
   "id": "f59eb6a2-896b-4bf3-ad3f-ae0a08f10b81",
   "metadata": {},
   "outputs": [],
   "source": [
    "library(tidyverse)\n",
    "library(knitr)\n",
    "library(ggplot2)\n",
    "options(repr.matrix.max.rows = 20)\n",
    "library(boot)\n",
    "library(broom)"
   ]
  },
  {
   "cell_type": "markdown",
   "id": "972f7ca6-2a30-42b1-ad28-8279c24f60c6",
   "metadata": {},
   "source": [
    "### 2. Pre-processing - COMPLETE"
   ]
  },
  {
   "cell_type": "code",
   "execution_count": 2,
   "id": "9c929edc-2220-443b-9666-571f1eec0713",
   "metadata": {},
   "outputs": [
    {
     "data": {
      "text/html": [
       "<table class=\"dataframe\">\n",
       "<caption>A tibble: 6 × 6</caption>\n",
       "<thead>\n",
       "\t<tr><th scope=col>county</th><th scope=col>year</th><th scope=col>site_id</th><th scope=col>site_type</th><th scope=col>no_of_bees</th><th scope=col>sample_date</th></tr>\n",
       "\t<tr><th scope=col>&lt;chr&gt;</th><th scope=col>&lt;int&gt;</th><th scope=col>&lt;int&gt;</th><th scope=col>&lt;chr&gt;</th><th scope=col>&lt;int&gt;</th><th scope=col>&lt;chr&gt;</th></tr>\n",
       "</thead>\n",
       "<tbody>\n",
       "\t<tr><td>Middlesex Centre</td><td>2015</td><td>1</td><td>Agricultural</td><td>7</td><td>07/02/2015</td></tr>\n",
       "\t<tr><td>Middlesex Centre</td><td>2015</td><td>1</td><td>Agricultural</td><td>1</td><td>07/02/2015</td></tr>\n",
       "\t<tr><td>Middlesex Centre</td><td>2015</td><td>1</td><td>Agricultural</td><td>3</td><td>07/02/2015</td></tr>\n",
       "\t<tr><td>Middlesex Centre</td><td>2015</td><td>1</td><td>Agricultural</td><td>0</td><td>07/02/2015</td></tr>\n",
       "\t<tr><td>Middlesex Centre</td><td>2015</td><td>1</td><td>Agricultural</td><td>1</td><td>07/02/2015</td></tr>\n",
       "\t<tr><td>Middlesex Centre</td><td>2015</td><td>1</td><td>Agricultural</td><td>0</td><td>07/02/2015</td></tr>\n",
       "</tbody>\n",
       "</table>\n"
      ],
      "text/latex": [
       "A tibble: 6 × 6\n",
       "\\begin{tabular}{llllll}\n",
       " county & year & site\\_id & site\\_type & no\\_of\\_bees & sample\\_date\\\\\n",
       " <chr> & <int> & <int> & <chr> & <int> & <chr>\\\\\n",
       "\\hline\n",
       "\t Middlesex Centre & 2015 & 1 & Agricultural & 7 & 07/02/2015\\\\\n",
       "\t Middlesex Centre & 2015 & 1 & Agricultural & 1 & 07/02/2015\\\\\n",
       "\t Middlesex Centre & 2015 & 1 & Agricultural & 3 & 07/02/2015\\\\\n",
       "\t Middlesex Centre & 2015 & 1 & Agricultural & 0 & 07/02/2015\\\\\n",
       "\t Middlesex Centre & 2015 & 1 & Agricultural & 1 & 07/02/2015\\\\\n",
       "\t Middlesex Centre & 2015 & 1 & Agricultural & 0 & 07/02/2015\\\\\n",
       "\\end{tabular}\n"
      ],
      "text/markdown": [
       "\n",
       "A tibble: 6 × 6\n",
       "\n",
       "| county &lt;chr&gt; | year &lt;int&gt; | site_id &lt;int&gt; | site_type &lt;chr&gt; | no_of_bees &lt;int&gt; | sample_date &lt;chr&gt; |\n",
       "|---|---|---|---|---|---|\n",
       "| Middlesex Centre | 2015 | 1 | Agricultural | 7 | 07/02/2015 |\n",
       "| Middlesex Centre | 2015 | 1 | Agricultural | 1 | 07/02/2015 |\n",
       "| Middlesex Centre | 2015 | 1 | Agricultural | 3 | 07/02/2015 |\n",
       "| Middlesex Centre | 2015 | 1 | Agricultural | 0 | 07/02/2015 |\n",
       "| Middlesex Centre | 2015 | 1 | Agricultural | 1 | 07/02/2015 |\n",
       "| Middlesex Centre | 2015 | 1 | Agricultural | 0 | 07/02/2015 |\n",
       "\n"
      ],
      "text/plain": [
       "  county           year site_id site_type    no_of_bees sample_date\n",
       "1 Middlesex Centre 2015 1       Agricultural 7          07/02/2015 \n",
       "2 Middlesex Centre 2015 1       Agricultural 1          07/02/2015 \n",
       "3 Middlesex Centre 2015 1       Agricultural 3          07/02/2015 \n",
       "4 Middlesex Centre 2015 1       Agricultural 0          07/02/2015 \n",
       "5 Middlesex Centre 2015 1       Agricultural 1          07/02/2015 \n",
       "6 Middlesex Centre 2015 1       Agricultural 0          07/02/2015 "
      ]
     },
     "metadata": {},
     "output_type": "display_data"
    }
   ],
   "source": [
    "bee_df <- read.csv(\"https://files.ontario.ca/moe_mapping/downloads/4Other/PHAP/Bumble_Bee_Public_Data.csv\") |>\n",
    "    select(1:7, contains(\"total\")) |>\n",
    "    mutate(site_type = case_when(`Site.Type` == \"Agri\" ~ \"Agricultural\",\n",
    "                                 `Site.Type` == \"Agriculture\" ~ \"Agricultural\",\n",
    "                                 TRUE ~ `Site.Type`)) |>\n",
    "    rename(\n",
    "        county = `ï..County`,\n",
    "        site_id = `MOECC.Site.Number`,\n",
    "        year = Year,\n",
    "        sample_date = `Sample.date`) |>\n",
    "    filter(site_type != \"\") |>\n",
    "    pivot_longer(`bimaculatus.total`:`flavidus.total`,\n",
    "                 values_to = \"no_of_bees\", names_to = \"species\") |>\n",
    "    select(county, year, site_id, site_type, no_of_bees, sample_date)\n",
    "\n",
    "head(bee_df)"
   ]
  },
  {
   "cell_type": "markdown",
   "id": "e81fb62c-6ff8-4935-bc28-4e8c5a6d3c3c",
   "metadata": {},
   "source": [
    "### 3. EDA"
   ]
  },
  {
   "cell_type": "code",
   "execution_count": 37,
   "id": "b0ae2cc9-894f-4cc1-8ee3-859dc3efe826",
   "metadata": {},
   "outputs": [
    {
     "name": "stderr",
     "output_type": "stream",
     "text": [
      "Warning message:\n",
      "\"Removed 1288 rows containing missing values (geom_point).\"\n",
      "Saving 6.67 x 6.67 in image\n",
      "\n",
      "Warning message:\n",
      "\"Removed 1289 rows containing missing values (geom_point).\"\n"
     ]
    },
    {
     "data": {
      "image/png": "[encoded data removed]",
      "text/plain": [
       "plot without title"
      ]
     },
     "metadata": {
      "image/png": {
       "height": 240,
       "width": 720
      }
     },
     "output_type": "display_data"
    }
   ],
   "source": [
    "options(repr.plot.width=12, repr.plot.height=4)\n",
    "\n",
    "\n",
    "bee_df_plot <- ggplot(bee_df) +\n",
    "    aes(y = site_type,\n",
    "        x = no_of_bees,\n",
    "        color = site_type) +\n",
    "    geom_jitter() +\n",
    "    labs(x = \"Number of bees per site\",\n",
    "         y = \"\",\n",
    "         color = \"Site types\",\n",
    "         title = \"Distiributions of the Bees Collected on Different Sites\",\n",
    "         subtitle = \"Scales were limited to 60 for representation purposes\"\n",
    "         ) +\n",
    "    scale_x_continuous(limits = c(0, 60)) +\n",
    "    guides(fill = \"none\") +\n",
    "    theme_bw() +\n",
    "    theme(text =  element_text(size = 15))\n",
    "\n",
    "bee_df_jitter\n",
    "ggsave(\"bee_df_jitter.png\")"
   ]
  },
  {
   "cell_type": "code",
   "execution_count": 15,
   "id": "f0441067-af47-471b-90c4-392ee721fcbe",
   "metadata": {},
   "outputs": [
    {
     "name": "stdout",
     "output_type": "stream",
     "text": [
      "Rows: 3,444\n",
      "Columns: 6\n",
      "$ county      \u001b[3m\u001b[90m<chr>\u001b[39m\u001b[23m \"Middlesex Centre\", \"Middlesex Centre\", \"Middlesex Centre\"~\n",
      "$ year        \u001b[3m\u001b[90m<int>\u001b[39m\u001b[23m 2015, 2015, 2015, 2015, 2015, 2015, 2015, 2015, 2015, 2015~\n",
      "$ site_id     \u001b[3m\u001b[90m<int>\u001b[39m\u001b[23m 1, 1, 1, 1, 1, 1, 1, 1, 1, 1, 1, 1, 1, 1, 2, 2, 2, 2, 2, 2~\n",
      "$ site_type   \u001b[3m\u001b[90m<chr>\u001b[39m\u001b[23m \"Agricultural\", \"Agricultural\", \"Agricultural\", \"Agricultu~\n",
      "$ no_of_bees  \u001b[3m\u001b[90m<int>\u001b[39m\u001b[23m 7, 1, 3, 0, 1, 0, 0, 1, 0, 0, 0, 0, 0, 0, 3, 14, 7, 0, 0, ~\n",
      "$ sample_date \u001b[3m\u001b[90m<chr>\u001b[39m\u001b[23m \"07/02/2015\", \"07/02/2015\", \"07/02/2015\", \"07/02/2015\", \"0~\n"
     ]
    }
   ],
   "source": [
    "glimpse(bee_df)"
   ]
  },
  {
   "cell_type": "code",
   "execution_count": 16,
   "id": "ae18a2ac-0aae-43c5-8b36-e461f2ecfb2c",
   "metadata": {},
   "outputs": [
    {
     "data": {
      "text/plain": [
       "\n",
       "\n",
       "Table: Table 1. Count of records per site\n",
       "\n",
       "|site_type            | no_of_records|\n",
       "|:--------------------|-------------:|\n",
       "|Agricultural         |          1806|\n",
       "|Natural              |           658|\n",
       "|Semi-natural remnant |           980|"
      ]
     },
     "metadata": {},
     "output_type": "display_data"
    }
   ],
   "source": [
    "bee_summary <- bee_df |>\n",
    "    group_by(site_type) |>\n",
    "    tally() |>\n",
    "    rename(no_of_records = n)\n",
    "\n",
    "kable(bee_summary, caption = \"Table 1. Count of records per site\")"
   ]
  },
  {
   "cell_type": "code",
   "execution_count": null,
   "id": "9fd0c551-8e05-49e3-a653-9363aad0a09c",
   "metadata": {},
   "outputs": [],
   "source": []
  },
  {
   "cell_type": "markdown",
   "id": "4fcb1633-fa4d-4a38-b93a-04162ec42e5a",
   "metadata": {},
   "source": [
    "### 4. Analysis"
   ]
  },
  {
   "cell_type": "code",
   "execution_count": 18,
   "id": "7586192d-6c16-4439-876c-efeeb9e70f9a",
   "metadata": {},
   "outputs": [],
   "source": [
    "bee_df <- bee_df |>\n",
    "    mutate(site_type = as.factor(site_type))"
   ]
  },
  {
   "cell_type": "code",
   "execution_count": 45,
   "id": "277d322e-0280-4024-9d3d-96693c0dc429",
   "metadata": {},
   "outputs": [],
   "source": [
    "pois_lr_agri <- glm(no_of_bees ~ relevel(site_type, ref = \"Agricultural\"),\n",
    "               family = poisson,\n",
    "               data = bee_df)"
   ]
  },
  {
   "cell_type": "code",
   "execution_count": 46,
   "id": "7b08f820-ee99-4c5d-98cf-9fba2751056d",
   "metadata": {},
   "outputs": [],
   "source": [
    "pois_lr_natural <- glm(no_of_bees ~ relevel(site_type, ref = \"Natural\"),\n",
    "               family = poisson,\n",
    "               data = bee_df)"
   ]
  },
  {
   "cell_type": "markdown",
   "id": "b87a0bdb-4ac0-4d46-ae3a-6afcec89588c",
   "metadata": {},
   "source": [
    "### 5. Statistical summary tables"
   ]
  },
  {
   "cell_type": "code",
   "execution_count": 47,
   "id": "080809b8-e6e4-4f17-962e-3673bdfa9d54",
   "metadata": {},
   "outputs": [],
   "source": [
    "agri_table <- tidy(pois_lr_agri)"
   ]
  },
  {
   "cell_type": "code",
   "execution_count": 48,
   "id": "510338e7-2510-4f70-a1a4-e90ee8177970",
   "metadata": {},
   "outputs": [],
   "source": [
    "nat_table <- tidy(pois_lr_natural)"
   ]
  },
  {
   "cell_type": "code",
   "execution_count": 62,
   "id": "7642c952-866a-4d5e-bd02-e2e67f7973c0",
   "metadata": {},
   "outputs": [
    {
     "data": {
      "text/plain": [
       "\n",
       "\n",
       "Table: Table 2. Analysis results\n",
       "\n",
       "|pairs                                |   estimate| std.error| statistic|   p.value| p_rounded|\n",
       "|:------------------------------------|----------:|---------:|---------:|---------:|---------:|\n",
       "|Agricultural vs natural              |  0.0759158| 0.0409905|  1.852033| 0.0640210|     0.064|\n",
       "|Agricultural vs semi-natural remnant |  0.2001459| 0.0344886|  5.803244| 0.0000000|     0.000|\n",
       "|Natural vs agricultural              | -0.0759158| 0.0409905| -1.852033| 0.0640210|     0.064|\n",
       "|Natural vs semi-natural remnant      |  0.1242301| 0.0438334|  2.834140| 0.0045949|     0.005|"
      ]
     },
     "metadata": {},
     "output_type": "display_data"
    }
   ],
   "source": [
    "pairs <- c(\"Agricultural vs natural\",\n",
    "           \"Agricultural vs semi-natural remnant\",\n",
    "           \"Natural vs agricultural\",\n",
    "           \"Natural vs semi-natural remnant\")\n",
    "\n",
    "analysis_table <- rbind(agri_table, nat_table) |>\n",
    "    filter(term != \"(Intercept)\") |>\n",
    "    mutate(p_rounded = round(`p.value`, 3),\n",
    "           pairs = case_when(\n",
    "               term == 'relevel(site_type, ref = \"Agricultural\")Natural' ~ \"Agricultural vs natural\",\n",
    "               term == 'relevel(site_type, ref = \"Agricultural\")Semi-natural remnant' ~ \"Agricultural vs semi-natural remnant\",\n",
    "               term == 'relevel(site_type, ref = \"Natural\")Agricultural' ~ \"Natural vs agricultural\",\n",
    "               term == 'relevel(site_type, ref = \"Natural\")Semi-natural remnant' ~ \"Natural vs semi-natural remnant\")) |>\n",
    "    relocate(pairs, .before = estimate) |>\n",
    "    select(-term)\n",
    "\n",
    "kable(analysis_table, caption = \"Table 2. Analysis results\")"
   ]
  },
  {
   "cell_type": "code",
   "execution_count": null,
   "id": "4dc5c4ca-8ac9-484e-b45e-ab8c23f0ecaa",
   "metadata": {},
   "outputs": [],
   "source": []
  }
 ],
 "metadata": {
  "kernelspec": {
   "display_name": "R",
   "language": "R",
   "name": "ir"
  },
  "language_info": {
   "codemirror_mode": "r",
   "file_extension": ".r",
   "mimetype": "text/x-r-source",
   "name": "R",
   "pygments_lexer": "r",
   "version": "4.1.2"
  }
 },
 "nbformat": 4,
 "nbformat_minor": 5
}
